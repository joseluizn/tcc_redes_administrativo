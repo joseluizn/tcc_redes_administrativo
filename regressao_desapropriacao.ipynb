{
 "cells": [
  {
   "cell_type": "code",
   "execution_count": 1,
   "metadata": {},
   "outputs": [],
   "source": [
    "import pandas as pd\n",
    "import numpy as np\n",
    "import networkx as nx\n",
    "import statsmodels.api as sm\n",
    "import seaborn as sns\n",
    "%matplotlib inline\n",
    "\n",
    "import community\n",
    "\n",
    "\n",
    "from sklearn import linear_model\n",
    "from pathlib import Path\n",
    "from matplotlib import pyplot as plt"
   ]
  },
  {
   "cell_type": "code",
   "execution_count": 2,
   "metadata": {},
   "outputs": [],
   "source": [
    "data = Path().absolute()/'data'"
   ]
  },
  {
   "cell_type": "markdown",
   "metadata": {},
   "source": [
    "## Importando dados de citação"
   ]
  },
  {
   "cell_type": "code",
   "execution_count": 3,
   "metadata": {},
   "outputs": [],
   "source": [
    "desapro_df = pd.read_csv(data/'citacoes_desapropriacao.csv')"
   ]
  },
  {
   "cell_type": "code",
   "execution_count": 4,
   "metadata": {
    "scrolled": true
   },
   "outputs": [
    {
     "data": {
      "text/plain": [
       "(108, 21)"
      ]
     },
     "execution_count": 4,
     "metadata": {},
     "output_type": "execute_result"
    }
   ],
   "source": [
    "desapro_df.shape"
   ]
  },
  {
   "cell_type": "markdown",
   "metadata": {},
   "source": [
    "Removing Sumulas"
   ]
  },
  {
   "cell_type": "code",
   "execution_count": 5,
   "metadata": {},
   "outputs": [],
   "source": [
    "desapro_df.query('~ @desapro_df.caso.str.contains(\"sumula\")',\n",
    "                 engine='python', inplace=True)"
   ]
  },
  {
   "cell_type": "code",
   "execution_count": 6,
   "metadata": {},
   "outputs": [
    {
     "name": "stdout",
     "output_type": "stream",
     "text": [
      "         caso  citacoes_total\n",
      "4    adi 2332              14\n",
      "3    adi 2260               8\n",
      "58  re 543974               8\n",
      "37  re 172816               7\n",
      "78   re 82300               5\n",
      "64  re 635336               5\n",
      "47  re 247866               5\n",
      "65   re 64559               5\n"
     ]
    }
   ],
   "source": [
    "print(desapro_df.sort_values('citacoes_total', ascending=False)[['caso','citacoes_total']].head(8))"
   ]
  },
  {
   "cell_type": "code",
   "execution_count": 7,
   "metadata": {
    "scrolled": true
   },
   "outputs": [
    {
     "data": {
      "text/html": [
       "<div>\n",
       "<style scoped>\n",
       "    .dataframe tbody tr th:only-of-type {\n",
       "        vertical-align: middle;\n",
       "    }\n",
       "\n",
       "    .dataframe tbody tr th {\n",
       "        vertical-align: top;\n",
       "    }\n",
       "\n",
       "    .dataframe thead th {\n",
       "        text-align: right;\n",
       "    }\n",
       "</style>\n",
       "<table border=\"1\" class=\"dataframe\">\n",
       "  <thead>\n",
       "    <tr style=\"text-align: right;\">\n",
       "      <th></th>\n",
       "      <th>0</th>\n",
       "    </tr>\n",
       "    <tr>\n",
       "      <th>citacoes_total</th>\n",
       "      <th></th>\n",
       "    </tr>\n",
       "  </thead>\n",
       "  <tbody>\n",
       "    <tr>\n",
       "      <th>2</th>\n",
       "      <td>64</td>\n",
       "    </tr>\n",
       "    <tr>\n",
       "      <th>3</th>\n",
       "      <td>15</td>\n",
       "    </tr>\n",
       "    <tr>\n",
       "      <th>4</th>\n",
       "      <td>6</td>\n",
       "    </tr>\n",
       "    <tr>\n",
       "      <th>5</th>\n",
       "      <td>4</td>\n",
       "    </tr>\n",
       "    <tr>\n",
       "      <th>7</th>\n",
       "      <td>1</td>\n",
       "    </tr>\n",
       "    <tr>\n",
       "      <th>8</th>\n",
       "      <td>2</td>\n",
       "    </tr>\n",
       "    <tr>\n",
       "      <th>14</th>\n",
       "      <td>1</td>\n",
       "    </tr>\n",
       "  </tbody>\n",
       "</table>\n",
       "</div>"
      ],
      "text/plain": [
       "                 0\n",
       "citacoes_total    \n",
       "2               64\n",
       "3               15\n",
       "4                6\n",
       "5                4\n",
       "7                1\n",
       "8                2\n",
       "14               1"
      ]
     },
     "execution_count": 7,
     "metadata": {},
     "output_type": "execute_result"
    }
   ],
   "source": [
    "desapro_df.groupby('citacoes_total').size().to_frame()"
   ]
  },
  {
   "cell_type": "markdown",
   "metadata": {},
   "source": [
    "## Carregando Grafo"
   ]
  },
  {
   "cell_type": "code",
   "execution_count": 8,
   "metadata": {},
   "outputs": [],
   "source": [
    "desapro_graph = nx.read_graphml(str(data.parent/'grafo_desapropriacao.graphml'))"
   ]
  },
  {
   "cell_type": "markdown",
   "metadata": {},
   "source": [
    "### Gerando gráfico com a distribuição dos graus"
   ]
  },
  {
   "cell_type": "markdown",
   "metadata": {},
   "source": [
    "Gráfico de In Degree"
   ]
  },
  {
   "cell_type": "code",
   "execution_count": 9,
   "metadata": {},
   "outputs": [],
   "source": [
    "in_degree = pd.Series(dict(desapro_graph.in_degree), name='Número de Citações Recebidas').reset_index()"
   ]
  },
  {
   "cell_type": "code",
   "execution_count": 10,
   "metadata": {},
   "outputs": [],
   "source": [
    "in_d_dist = in_degree.groupby('Número de Citações Recebidas').index.nunique().reset_index()\n",
    "\n",
    "in_d_dist.rename(columns={'index': 'Número de Casos'}, inplace=True)"
   ]
  },
  {
   "cell_type": "code",
   "execution_count": 11,
   "metadata": {},
   "outputs": [
    {
     "data": {
      "text/html": [
       "<div>\n",
       "<style scoped>\n",
       "    .dataframe tbody tr th:only-of-type {\n",
       "        vertical-align: middle;\n",
       "    }\n",
       "\n",
       "    .dataframe tbody tr th {\n",
       "        vertical-align: top;\n",
       "    }\n",
       "\n",
       "    .dataframe thead th {\n",
       "        text-align: right;\n",
       "    }\n",
       "</style>\n",
       "<table border=\"1\" class=\"dataframe\">\n",
       "  <thead>\n",
       "    <tr style=\"text-align: right;\">\n",
       "      <th></th>\n",
       "      <th>Número de Citações Recebidas</th>\n",
       "      <th>Número de Casos</th>\n",
       "    </tr>\n",
       "  </thead>\n",
       "  <tbody>\n",
       "    <tr>\n",
       "      <th>0</th>\n",
       "      <td>0</td>\n",
       "      <td>3973</td>\n",
       "    </tr>\n",
       "    <tr>\n",
       "      <th>1</th>\n",
       "      <td>1</td>\n",
       "      <td>218</td>\n",
       "    </tr>\n",
       "    <tr>\n",
       "      <th>2</th>\n",
       "      <td>2</td>\n",
       "      <td>113</td>\n",
       "    </tr>\n",
       "    <tr>\n",
       "      <th>3</th>\n",
       "      <td>3</td>\n",
       "      <td>57</td>\n",
       "    </tr>\n",
       "    <tr>\n",
       "      <th>4</th>\n",
       "      <td>4</td>\n",
       "      <td>48</td>\n",
       "    </tr>\n",
       "  </tbody>\n",
       "</table>\n",
       "</div>"
      ],
      "text/plain": [
       "   Número de Citações Recebidas  Número de Casos\n",
       "0                             0             3973\n",
       "1                             1              218\n",
       "2                             2              113\n",
       "3                             3               57\n",
       "4                             4               48"
      ]
     },
     "execution_count": 11,
     "metadata": {},
     "output_type": "execute_result"
    }
   ],
   "source": [
    "in_d_dist.head()"
   ]
  },
  {
   "cell_type": "code",
   "execution_count": 12,
   "metadata": {},
   "outputs": [
    {
     "data": {
      "image/png": "[encoded data removed]",
      "text/plain": [
       "<Figure size 864x864 with 1 Axes>"
      ]
     },
     "metadata": {},
     "output_type": "display_data"
    }
   ],
   "source": [
    "sns.set(rc={'figure.figsize':(12,12)}, font_scale=2)\n",
    "\n",
    "fig, ax = plt.subplots(figsize=(12,12))\n",
    "\n",
    "plt.xscale('log')\n",
    "plt.yscale('log')\n",
    "\n",
    "in_degree_graph = sns.scatterplot(x='Número de Citações Recebidas', y='Número de Casos', data=in_d_dist.drop(0), s=150,)"
   ]
  },
  {
   "cell_type": "code",
   "execution_count": 13,
   "metadata": {},
   "outputs": [],
   "source": [
    "fig.savefig('graficos/in_desapropriacao.png')"
   ]
  },
  {
   "cell_type": "markdown",
   "metadata": {},
   "source": [
    "Gráfico de Out Degree"
   ]
  },
  {
   "cell_type": "code",
   "execution_count": 14,
   "metadata": {},
   "outputs": [],
   "source": [
    "out_degree = pd.Series(dict(desapro_graph.out_degree), name='Número de Citações Realizadas').reset_index()"
   ]
  },
  {
   "cell_type": "code",
   "execution_count": 15,
   "metadata": {},
   "outputs": [],
   "source": [
    "out_d_dist = out_degree.groupby('Número de Citações Realizadas').index.nunique().reset_index()\n",
    "\n",
    "out_d_dist.rename(columns={'index': 'Número de Casos'}, inplace=True)"
   ]
  },
  {
   "cell_type": "code",
   "execution_count": 16,
   "metadata": {},
   "outputs": [
    {
     "data": {
      "text/html": [
       "<div>\n",
       "<style scoped>\n",
       "    .dataframe tbody tr th:only-of-type {\n",
       "        vertical-align: middle;\n",
       "    }\n",
       "\n",
       "    .dataframe tbody tr th {\n",
       "        vertical-align: top;\n",
       "    }\n",
       "\n",
       "    .dataframe thead th {\n",
       "        text-align: right;\n",
       "    }\n",
       "</style>\n",
       "<table border=\"1\" class=\"dataframe\">\n",
       "  <thead>\n",
       "    <tr style=\"text-align: right;\">\n",
       "      <th></th>\n",
       "      <th>Número de Citações Realizadas</th>\n",
       "      <th>Número de Casos</th>\n",
       "    </tr>\n",
       "  </thead>\n",
       "  <tbody>\n",
       "    <tr>\n",
       "      <th>0</th>\n",
       "      <td>0</td>\n",
       "      <td>2213</td>\n",
       "    </tr>\n",
       "    <tr>\n",
       "      <th>1</th>\n",
       "      <td>1</td>\n",
       "      <td>1328</td>\n",
       "    </tr>\n",
       "    <tr>\n",
       "      <th>2</th>\n",
       "      <td>2</td>\n",
       "      <td>417</td>\n",
       "    </tr>\n",
       "    <tr>\n",
       "      <th>3</th>\n",
       "      <td>3</td>\n",
       "      <td>185</td>\n",
       "    </tr>\n",
       "    <tr>\n",
       "      <th>4</th>\n",
       "      <td>4</td>\n",
       "      <td>214</td>\n",
       "    </tr>\n",
       "  </tbody>\n",
       "</table>\n",
       "</div>"
      ],
      "text/plain": [
       "   Número de Citações Realizadas  Número de Casos\n",
       "0                              0             2213\n",
       "1                              1             1328\n",
       "2                              2              417\n",
       "3                              3              185\n",
       "4                              4              214"
      ]
     },
     "execution_count": 16,
     "metadata": {},
     "output_type": "execute_result"
    }
   ],
   "source": [
    "out_d_dist.head()"
   ]
  },
  {
   "cell_type": "code",
   "execution_count": 17,
   "metadata": {
    "scrolled": false
   },
   "outputs": [
    {
     "data": {
      "image/png": "[encoded data removed]",
      "text/plain": [
       "<Figure size 864x864 with 1 Axes>"
      ]
     },
     "metadata": {},
     "output_type": "display_data"
    }
   ],
   "source": [
    "sns.set(rc={'figure.figsize':(12,12)}, font_scale=2)\n",
    "\n",
    "fig, ax = plt.subplots(figsize=(12,12))\n",
    "\n",
    "plt.xscale('log')\n",
    "plt.yscale('log')\n",
    "\n",
    "in_degree_graph = sns.scatterplot(x='Número de Citações Realizadas', y='Número de Casos', data=out_d_dist.drop(0), s=150,)"
   ]
  },
  {
   "cell_type": "code",
   "execution_count": 18,
   "metadata": {},
   "outputs": [],
   "source": [
    "fig.savefig('graficos/out_desapropriacao.png')"
   ]
  },
  {
   "cell_type": "markdown",
   "metadata": {},
   "source": [
    "### Removendo nós roxo - comunidade relativa ao RE 453740 que trata de juros para remuneração de servidores públicos"
   ]
  },
  {
   "cell_type": "code",
   "execution_count": 19,
   "metadata": {},
   "outputs": [],
   "source": [
    "other_nodes = [n for n,v in desapro_graph.nodes(data=True) if v['Modularity Class'] != 1774]"
   ]
  },
  {
   "cell_type": "code",
   "execution_count": 20,
   "metadata": {},
   "outputs": [
    {
     "data": {
      "text/plain": [
       "3903"
      ]
     },
     "execution_count": 20,
     "metadata": {},
     "output_type": "execute_result"
    }
   ],
   "source": [
    "len(other_nodes)"
   ]
  },
  {
   "cell_type": "code",
   "execution_count": 21,
   "metadata": {},
   "outputs": [],
   "source": [
    "graph = desapro_graph.subgraph(other_nodes)"
   ]
  },
  {
   "cell_type": "markdown",
   "metadata": {},
   "source": [
    "### Calculando PageRank e HITS"
   ]
  },
  {
   "cell_type": "code",
   "execution_count": 22,
   "metadata": {},
   "outputs": [],
   "source": [
    "pr_d = pd.Series(nx.algorithms.link_analysis.pagerank(graph),\n",
    "                 name='page_rank').to_frame()"
   ]
  },
  {
   "cell_type": "code",
   "execution_count": 23,
   "metadata": {},
   "outputs": [],
   "source": [
    "hub, auth = nx.algorithms.link_analysis.hits(graph)"
   ]
  },
  {
   "cell_type": "code",
   "execution_count": 24,
   "metadata": {},
   "outputs": [],
   "source": [
    "hub_d = pd.Series(hub, name='hub_score').to_frame()\n",
    "\n",
    "auth_d = pd.Series(auth, name='auth_score').to_frame()"
   ]
  },
  {
   "cell_type": "markdown",
   "metadata": {},
   "source": [
    "Adicionando Modularidade"
   ]
  },
  {
   "cell_type": "code",
   "execution_count": 25,
   "metadata": {},
   "outputs": [],
   "source": [
    "mod_d = pd.Series(nx.get_node_attributes(graph, 'Modularity Class'),\n",
    "                  name='modularity').to_frame()"
   ]
  },
  {
   "cell_type": "markdown",
   "metadata": {},
   "source": [
    "Obtendo número de citações"
   ]
  },
  {
   "cell_type": "code",
   "execution_count": 26,
   "metadata": {},
   "outputs": [],
   "source": [
    "n_cit = pd.Series(nx.get_node_attributes(graph, 'In-Degree'),\n",
    "                  name='n_citacoes').to_frame()"
   ]
  },
  {
   "cell_type": "markdown",
   "metadata": {},
   "source": [
    "Gerando Dataframe com todas as informações"
   ]
  },
  {
   "cell_type": "code",
   "execution_count": 27,
   "metadata": {},
   "outputs": [],
   "source": [
    "desaprop_info = mod_d.join(n_cit).join(pr_d).join(auth_d).join(hub_d)"
   ]
  },
  {
   "cell_type": "code",
   "execution_count": 28,
   "metadata": {},
   "outputs": [],
   "source": [
    "desaprop_info.index = desaprop_info.index.str.lower()"
   ]
  },
  {
   "cell_type": "markdown",
   "metadata": {},
   "source": [
    "Incluindo MARC In-degree"
   ]
  },
  {
   "cell_type": "code",
   "execution_count": 29,
   "metadata": {},
   "outputs": [
    {
     "name": "stderr",
     "output_type": "stream",
     "text": [
      "/usr/local/lib/python3.5/dist-packages/ipykernel_launcher.py:1: RuntimeWarning: divide by zero encountered in log2\n",
      "  \"\"\"Entry point for launching an IPython kernel.\n"
     ]
    }
   ],
   "source": [
    "desaprop_info['marc'] = 1 + np.log2(desaprop_info['n_citacoes'])"
   ]
  },
  {
   "cell_type": "code",
   "execution_count": 30,
   "metadata": {},
   "outputs": [
    {
     "data": {
      "text/html": [
       "<div>\n",
       "<style scoped>\n",
       "    .dataframe tbody tr th:only-of-type {\n",
       "        vertical-align: middle;\n",
       "    }\n",
       "\n",
       "    .dataframe tbody tr th {\n",
       "        vertical-align: top;\n",
       "    }\n",
       "\n",
       "    .dataframe thead th {\n",
       "        text-align: right;\n",
       "    }\n",
       "</style>\n",
       "<table border=\"1\" class=\"dataframe\">\n",
       "  <thead>\n",
       "    <tr style=\"text-align: right;\">\n",
       "      <th></th>\n",
       "      <th>modularity</th>\n",
       "      <th>n_citacoes</th>\n",
       "      <th>page_rank</th>\n",
       "      <th>auth_score</th>\n",
       "      <th>hub_score</th>\n",
       "      <th>marc</th>\n",
       "    </tr>\n",
       "  </thead>\n",
       "  <tbody>\n",
       "    <tr>\n",
       "      <th>ac 1132</th>\n",
       "      <td>697</td>\n",
       "      <td>0</td>\n",
       "      <td>0.000155</td>\n",
       "      <td>0.000000e+00</td>\n",
       "      <td>9.775919e-07</td>\n",
       "      <td>-inf</td>\n",
       "    </tr>\n",
       "    <tr>\n",
       "      <th>ac 1176</th>\n",
       "      <td>436</td>\n",
       "      <td>1</td>\n",
       "      <td>0.000286</td>\n",
       "      <td>1.399016e-135</td>\n",
       "      <td>0.000000e+00</td>\n",
       "      <td>1.000000</td>\n",
       "    </tr>\n",
       "    <tr>\n",
       "      <th>ac 1516</th>\n",
       "      <td>736</td>\n",
       "      <td>0</td>\n",
       "      <td>0.000155</td>\n",
       "      <td>0.000000e+00</td>\n",
       "      <td>1.217640e-137</td>\n",
       "      <td>-inf</td>\n",
       "    </tr>\n",
       "    <tr>\n",
       "      <th>ac 1546</th>\n",
       "      <td>751</td>\n",
       "      <td>3</td>\n",
       "      <td>0.000418</td>\n",
       "      <td>1.350715e-05</td>\n",
       "      <td>1.094673e-08</td>\n",
       "      <td>2.584963</td>\n",
       "    </tr>\n",
       "    <tr>\n",
       "      <th>ac 1577</th>\n",
       "      <td>1560</td>\n",
       "      <td>0</td>\n",
       "      <td>0.000155</td>\n",
       "      <td>0.000000e+00</td>\n",
       "      <td>0.000000e+00</td>\n",
       "      <td>-inf</td>\n",
       "    </tr>\n",
       "  </tbody>\n",
       "</table>\n",
       "</div>"
      ],
      "text/plain": [
       "         modularity  n_citacoes  page_rank     auth_score      hub_score  \\\n",
       "ac 1132         697           0   0.000155   0.000000e+00   9.775919e-07   \n",
       "ac 1176         436           1   0.000286  1.399016e-135   0.000000e+00   \n",
       "ac 1516         736           0   0.000155   0.000000e+00  1.217640e-137   \n",
       "ac 1546         751           3   0.000418   1.350715e-05   1.094673e-08   \n",
       "ac 1577        1560           0   0.000155   0.000000e+00   0.000000e+00   \n",
       "\n",
       "             marc  \n",
       "ac 1132      -inf  \n",
       "ac 1176  1.000000  \n",
       "ac 1516      -inf  \n",
       "ac 1546  2.584963  \n",
       "ac 1577      -inf  "
      ]
     },
     "execution_count": 30,
     "metadata": {},
     "output_type": "execute_result"
    }
   ],
   "source": [
    "desaprop_info.head()"
   ]
  },
  {
   "cell_type": "markdown",
   "metadata": {},
   "source": [
    "substituindo infinitos por 0"
   ]
  },
  {
   "cell_type": "code",
   "execution_count": 31,
   "metadata": {},
   "outputs": [],
   "source": [
    "desaprop_info.replace(-np.inf, 0, inplace=True)"
   ]
  },
  {
   "cell_type": "markdown",
   "metadata": {},
   "source": [
    "#### Gerando Quantis para cada coluna"
   ]
  },
  {
   "cell_type": "code",
   "execution_count": 32,
   "metadata": {},
   "outputs": [],
   "source": [
    "for c in desaprop_info[['page_rank', 'auth_score', 'hub_score']].columns:\n",
    "    desaprop_info[c + '_quantile'] = pd.qcut(desaprop_info[c], 1000, duplicates='drop', labels=False)/10"
   ]
  },
  {
   "cell_type": "markdown",
   "metadata": {},
   "source": [
    "### Juntando informação de citação com as medidas de rede"
   ]
  },
  {
   "cell_type": "code",
   "execution_count": 33,
   "metadata": {},
   "outputs": [],
   "source": [
    "desaprop_info.index.name = 'caso'\n",
    "desaprop_info.reset_index(drop=False, inplace=True)"
   ]
  },
  {
   "cell_type": "code",
   "execution_count": 34,
   "metadata": {},
   "outputs": [
    {
     "data": {
      "text/plain": [
       "(3903, 10)"
      ]
     },
     "execution_count": 34,
     "metadata": {},
     "output_type": "execute_result"
    }
   ],
   "source": [
    "desaprop_info.shape"
   ]
  },
  {
   "cell_type": "code",
   "execution_count": 35,
   "metadata": {},
   "outputs": [],
   "source": [
    "desapro_df = desapro_df.merge(desaprop_info, how='right')"
   ]
  },
  {
   "cell_type": "code",
   "execution_count": 36,
   "metadata": {},
   "outputs": [
    {
     "name": "stdout",
     "output_type": "stream",
     "text": [
      "<class 'pandas.core.frame.DataFrame'>\n",
      "Int64Index: 3903 entries, 0 to 3902\n",
      "Data columns (total 2 columns):\n",
      "citado       22 non-null float64\n",
      "page_rank    3903 non-null float64\n",
      "dtypes: float64(2)\n",
      "memory usage: 91.5 KB\n"
     ]
    }
   ],
   "source": [
    "desapro_df[['citado', 'page_rank']].info()"
   ]
  },
  {
   "cell_type": "code",
   "execution_count": 37,
   "metadata": {},
   "outputs": [],
   "source": [
    "desapro_df.fillna(0, inplace=True)"
   ]
  },
  {
   "cell_type": "markdown",
   "metadata": {},
   "source": [
    "Linear Model"
   ]
  },
  {
   "cell_type": "code",
   "execution_count": 38,
   "metadata": {},
   "outputs": [],
   "source": [
    "y_d1 = desapro_df.page_rank_quantile\n",
    "y_d2 = desapro_df.auth_score_quantile\n",
    "\n",
    "x_d = desapro_df.citacoes_total\n",
    "\n",
    "x_d = sm.add_constant(x_d, False)"
   ]
  },
  {
   "cell_type": "code",
   "execution_count": 39,
   "metadata": {},
   "outputs": [
    {
     "data": {
      "text/html": [
       "<table class=\"simpletable\">\n",
       "<caption>OLS Regression Results</caption>\n",
       "<tr>\n",
       "  <th>Dep. Variable:</th>    <td>page_rank_quantile</td> <th>  R-squared:         </th> <td>   0.016</td> \n",
       "</tr>\n",
       "<tr>\n",
       "  <th>Model:</th>                    <td>OLS</td>        <th>  Adj. R-squared:    </th> <td>   0.016</td> \n",
       "</tr>\n",
       "<tr>\n",
       "  <th>Method:</th>              <td>Least Squares</td>   <th>  F-statistic:       </th> <td>   62.52</td> \n",
       "</tr>\n",
       "<tr>\n",
       "  <th>Date:</th>              <td>Mon, 19 Nov 2018</td>  <th>  Prob (F-statistic):</th> <td>3.41e-15</td> \n",
       "</tr>\n",
       "<tr>\n",
       "  <th>Time:</th>                  <td>15:30:24</td>      <th>  Log-Likelihood:    </th> <td> -9839.4</td> \n",
       "</tr>\n",
       "<tr>\n",
       "  <th>No. Observations:</th>       <td>  3903</td>       <th>  AIC:               </th> <td>1.968e+04</td>\n",
       "</tr>\n",
       "<tr>\n",
       "  <th>Df Residuals:</th>           <td>  3901</td>       <th>  BIC:               </th> <td>1.970e+04</td>\n",
       "</tr>\n",
       "<tr>\n",
       "  <th>Df Model:</th>               <td>     1</td>       <th>                     </th>     <td> </td>    \n",
       "</tr>\n",
       "<tr>\n",
       "  <th>Covariance Type:</th>       <td>nonrobust</td>     <th>                     </th>     <td> </td>    \n",
       "</tr>\n",
       "</table>\n",
       "<table class=\"simpletable\">\n",
       "<tr>\n",
       "         <td></td>           <th>coef</th>     <th>std err</th>      <th>t</th>      <th>P>|t|</th>  <th>[0.025</th>    <th>0.975]</th>  \n",
       "</tr>\n",
       "<tr>\n",
       "  <th>citacoes_total</th> <td>    1.1394</td> <td>    0.144</td> <td>    7.907</td> <td> 0.000</td> <td>    0.857</td> <td>    1.422</td>\n",
       "</tr>\n",
       "<tr>\n",
       "  <th>const</th>          <td>    1.1206</td> <td>    0.048</td> <td>   23.213</td> <td> 0.000</td> <td>    1.026</td> <td>    1.215</td>\n",
       "</tr>\n",
       "</table>\n",
       "<table class=\"simpletable\">\n",
       "<tr>\n",
       "  <th>Omnibus:</th>       <td>2232.421</td> <th>  Durbin-Watson:     </th> <td>   1.721</td> \n",
       "</tr>\n",
       "<tr>\n",
       "  <th>Prob(Omnibus):</th>  <td> 0.000</td>  <th>  Jarque-Bera (JB):  </th> <td>13502.521</td>\n",
       "</tr>\n",
       "<tr>\n",
       "  <th>Skew:</th>           <td> 2.830</td>  <th>  Prob(JB):          </th> <td>    0.00</td> \n",
       "</tr>\n",
       "<tr>\n",
       "  <th>Kurtosis:</th>       <td>10.141</td>  <th>  Cond. No.          </th> <td>    2.99</td> \n",
       "</tr>\n",
       "</table><br/><br/>Warnings:<br/>[1] Standard Errors assume that the covariance matrix of the errors is correctly specified."
      ],
      "text/plain": [
       "<class 'statsmodels.iolib.summary.Summary'>\n",
       "\"\"\"\n",
       "                            OLS Regression Results                            \n",
       "==============================================================================\n",
       "Dep. Variable:     page_rank_quantile   R-squared:                       0.016\n",
       "Model:                            OLS   Adj. R-squared:                  0.016\n",
       "Method:                 Least Squares   F-statistic:                     62.52\n",
       "Date:                Mon, 19 Nov 2018   Prob (F-statistic):           3.41e-15\n",
       "Time:                        15:30:24   Log-Likelihood:                -9839.4\n",
       "No. Observations:                3903   AIC:                         1.968e+04\n",
       "Df Residuals:                    3901   BIC:                         1.970e+04\n",
       "Df Model:                           1                                         \n",
       "Covariance Type:            nonrobust                                         \n",
       "==================================================================================\n",
       "                     coef    std err          t      P>|t|      [0.025      0.975]\n",
       "----------------------------------------------------------------------------------\n",
       "citacoes_total     1.1394      0.144      7.907      0.000       0.857       1.422\n",
       "const              1.1206      0.048     23.213      0.000       1.026       1.215\n",
       "==============================================================================\n",
       "Omnibus:                     2232.421   Durbin-Watson:                   1.721\n",
       "Prob(Omnibus):                  0.000   Jarque-Bera (JB):            13502.521\n",
       "Skew:                           2.830   Prob(JB):                         0.00\n",
       "Kurtosis:                      10.141   Cond. No.                         2.99\n",
       "==============================================================================\n",
       "\n",
       "Warnings:\n",
       "[1] Standard Errors assume that the covariance matrix of the errors is correctly specified.\n",
       "\"\"\""
      ]
     },
     "execution_count": 39,
     "metadata": {},
     "output_type": "execute_result"
    }
   ],
   "source": [
    "linmodel_d_pr = sm.OLS(y_d1, x_d, missing='drop').fit()\n",
    "linmodel_d_pr.summary()"
   ]
  },
  {
   "cell_type": "code",
   "execution_count": 40,
   "metadata": {},
   "outputs": [
    {
     "data": {
      "text/html": [
       "<table class=\"simpletable\">\n",
       "<caption>OLS Regression Results</caption>\n",
       "<tr>\n",
       "  <th>Dep. Variable:</th>    <td>auth_score_quantile</td> <th>  R-squared:         </th> <td>   0.010</td> \n",
       "</tr>\n",
       "<tr>\n",
       "  <th>Model:</th>                    <td>OLS</td>         <th>  Adj. R-squared:    </th> <td>   0.010</td> \n",
       "</tr>\n",
       "<tr>\n",
       "  <th>Method:</th>              <td>Least Squares</td>    <th>  F-statistic:       </th> <td>   39.75</td> \n",
       "</tr>\n",
       "<tr>\n",
       "  <th>Date:</th>              <td>Mon, 19 Nov 2018</td>   <th>  Prob (F-statistic):</th> <td>3.20e-10</td> \n",
       "</tr>\n",
       "<tr>\n",
       "  <th>Time:</th>                  <td>15:30:24</td>       <th>  Log-Likelihood:    </th> <td> -10424.</td> \n",
       "</tr>\n",
       "<tr>\n",
       "  <th>No. Observations:</th>       <td>  3903</td>        <th>  AIC:               </th> <td>2.085e+04</td>\n",
       "</tr>\n",
       "<tr>\n",
       "  <th>Df Residuals:</th>           <td>  3901</td>        <th>  BIC:               </th> <td>2.087e+04</td>\n",
       "</tr>\n",
       "<tr>\n",
       "  <th>Df Model:</th>               <td>     1</td>        <th>                     </th>     <td> </td>    \n",
       "</tr>\n",
       "<tr>\n",
       "  <th>Covariance Type:</th>       <td>nonrobust</td>      <th>                     </th>     <td> </td>    \n",
       "</tr>\n",
       "</table>\n",
       "<table class=\"simpletable\">\n",
       "<tr>\n",
       "         <td></td>           <th>coef</th>     <th>std err</th>      <th>t</th>      <th>P>|t|</th>  <th>[0.025</th>    <th>0.975]</th>  \n",
       "</tr>\n",
       "<tr>\n",
       "  <th>citacoes_total</th> <td>    1.0556</td> <td>    0.167</td> <td>    6.305</td> <td> 0.000</td> <td>    0.727</td> <td>    1.384</td>\n",
       "</tr>\n",
       "<tr>\n",
       "  <th>const</th>          <td>    1.2874</td> <td>    0.056</td> <td>   22.955</td> <td> 0.000</td> <td>    1.177</td> <td>    1.397</td>\n",
       "</tr>\n",
       "</table>\n",
       "<table class=\"simpletable\">\n",
       "<tr>\n",
       "  <th>Omnibus:</th>       <td>2158.370</td> <th>  Durbin-Watson:     </th> <td>   1.861</td> \n",
       "</tr>\n",
       "<tr>\n",
       "  <th>Prob(Omnibus):</th>  <td> 0.000</td>  <th>  Jarque-Bera (JB):  </th> <td>11946.218</td>\n",
       "</tr>\n",
       "<tr>\n",
       "  <th>Skew:</th>           <td> 2.756</td>  <th>  Prob(JB):          </th> <td>    0.00</td> \n",
       "</tr>\n",
       "<tr>\n",
       "  <th>Kurtosis:</th>       <td> 9.563</td>  <th>  Cond. No.          </th> <td>    2.99</td> \n",
       "</tr>\n",
       "</table><br/><br/>Warnings:<br/>[1] Standard Errors assume that the covariance matrix of the errors is correctly specified."
      ],
      "text/plain": [
       "<class 'statsmodels.iolib.summary.Summary'>\n",
       "\"\"\"\n",
       "                             OLS Regression Results                            \n",
       "===============================================================================\n",
       "Dep. Variable:     auth_score_quantile   R-squared:                       0.010\n",
       "Model:                             OLS   Adj. R-squared:                  0.010\n",
       "Method:                  Least Squares   F-statistic:                     39.75\n",
       "Date:                 Mon, 19 Nov 2018   Prob (F-statistic):           3.20e-10\n",
       "Time:                         15:30:24   Log-Likelihood:                -10424.\n",
       "No. Observations:                 3903   AIC:                         2.085e+04\n",
       "Df Residuals:                     3901   BIC:                         2.087e+04\n",
       "Df Model:                            1                                         \n",
       "Covariance Type:             nonrobust                                         \n",
       "==================================================================================\n",
       "                     coef    std err          t      P>|t|      [0.025      0.975]\n",
       "----------------------------------------------------------------------------------\n",
       "citacoes_total     1.0556      0.167      6.305      0.000       0.727       1.384\n",
       "const              1.2874      0.056     22.955      0.000       1.177       1.397\n",
       "==============================================================================\n",
       "Omnibus:                     2158.370   Durbin-Watson:                   1.861\n",
       "Prob(Omnibus):                  0.000   Jarque-Bera (JB):            11946.218\n",
       "Skew:                           2.756   Prob(JB):                         0.00\n",
       "Kurtosis:                       9.563   Cond. No.                         2.99\n",
       "==============================================================================\n",
       "\n",
       "Warnings:\n",
       "[1] Standard Errors assume that the covariance matrix of the errors is correctly specified.\n",
       "\"\"\""
      ]
     },
     "execution_count": 40,
     "metadata": {},
     "output_type": "execute_result"
    }
   ],
   "source": [
    "linmodel_d_pr = sm.OLS(y_d2, x_d, missing='drop').fit()\n",
    "linmodel_d_pr.summary()"
   ]
  },
  {
   "cell_type": "code",
   "execution_count": 41,
   "metadata": {
    "scrolled": false
   },
   "outputs": [
    {
     "name": "stderr",
     "output_type": "stream",
     "text": [
      "/usr/local/lib/python3.5/dist-packages/scipy/stats/stats.py:1713: FutureWarning: Using a non-tuple sequence for multidimensional indexing is deprecated; use `arr[tuple(seq)]` instead of `arr[seq]`. In the future this will be interpreted as an array index, `arr[np.array(seq)]`, which will result either in an error or a different result.\n",
      "  return np.add.reduce(sorted[indexer] * weights, axis=axis) / sumval\n"
     ]
    },
    {
     "data": {
      "text/plain": [
       "<matplotlib.axes._subplots.AxesSubplot at 0x7f6b2ae4d160>"
      ]
     },
     "execution_count": 41,
     "metadata": {},
     "output_type": "execute_result"
    },
    {
     "data": {
      "image/png": "[encoded data removed]",
      "text/plain": [
       "<Figure size 864x864 with 1 Axes>"
      ]
     },
     "metadata": {},
     "output_type": "display_data"
    }
   ],
   "source": [
    "sns.regplot(x='citacoes_total', y='page_rank_quantile', data=desapro_df)"
   ]
  },
  {
   "cell_type": "code",
   "execution_count": 42,
   "metadata": {},
   "outputs": [
    {
     "name": "stderr",
     "output_type": "stream",
     "text": [
      "/usr/local/lib/python3.5/dist-packages/scipy/stats/stats.py:1713: FutureWarning: Using a non-tuple sequence for multidimensional indexing is deprecated; use `arr[tuple(seq)]` instead of `arr[seq]`. In the future this will be interpreted as an array index, `arr[np.array(seq)]`, which will result either in an error or a different result.\n",
      "  return np.add.reduce(sorted[indexer] * weights, axis=axis) / sumval\n"
     ]
    },
    {
     "data": {
      "text/plain": [
       "<matplotlib.axes._subplots.AxesSubplot at 0x7f6b2af19128>"
      ]
     },
     "execution_count": 42,
     "metadata": {},
     "output_type": "execute_result"
    },
    {
     "data": {
      "image/png": "[encoded data removed]",
      "text/plain": [
       "<Figure size 864x864 with 1 Axes>"
      ]
     },
     "metadata": {},
     "output_type": "display_data"
    }
   ],
   "source": [
    "sns.regplot(x='citacoes_total', y='auth_score_quantile', data=desapro_df)"
   ]
  },
  {
   "cell_type": "markdown",
   "metadata": {},
   "source": [
    "### Modelo Logístico"
   ]
  },
  {
   "cell_type": "markdown",
   "metadata": {},
   "source": [
    "testando modelo com todas as varíavais"
   ]
  },
  {
   "cell_type": "code",
   "execution_count": 43,
   "metadata": {},
   "outputs": [],
   "source": [
    "X = desapro_df[['page_rank_quantile', 'auth_score_quantile', 'hub_score_quantile', 'n_citacoes']]\n",
    "X = sm.add_constant(X)\n",
    "\n",
    "logit_model = sm.Logit(exog=X,\n",
    "                       endog=desapro_df['citado'])\n",
    "\n",
    "logit_result = logit_model.fit(disp=False)"
   ]
  },
  {
   "cell_type": "code",
   "execution_count": 44,
   "metadata": {},
   "outputs": [
    {
     "data": {
      "text/html": [
       "<table class=\"simpletable\">\n",
       "<caption>Logit Regression Results</caption>\n",
       "<tr>\n",
       "  <th>Dep. Variable:</th>      <td>citado</td>      <th>  No. Observations:  </th>  <td>  3903</td>  \n",
       "</tr>\n",
       "<tr>\n",
       "  <th>Model:</th>               <td>Logit</td>      <th>  Df Residuals:      </th>  <td>  3898</td>  \n",
       "</tr>\n",
       "<tr>\n",
       "  <th>Method:</th>               <td>MLE</td>       <th>  Df Model:          </th>  <td>     4</td>  \n",
       "</tr>\n",
       "<tr>\n",
       "  <th>Date:</th>          <td>Mon, 19 Nov 2018</td> <th>  Pseudo R-squ.:     </th>  <td>0.1554</td>  \n",
       "</tr>\n",
       "<tr>\n",
       "  <th>Time:</th>              <td>15:30:27</td>     <th>  Log-Likelihood:    </th> <td> -114.75</td> \n",
       "</tr>\n",
       "<tr>\n",
       "  <th>converged:</th>           <td>True</td>       <th>  LL-Null:           </th> <td> -135.86</td> \n",
       "</tr>\n",
       "<tr>\n",
       "  <th> </th>                      <td> </td>        <th>  LLR p-value:       </th> <td>1.493e-08</td>\n",
       "</tr>\n",
       "</table>\n",
       "<table class=\"simpletable\">\n",
       "<tr>\n",
       "           <td></td>              <th>coef</th>     <th>std err</th>      <th>z</th>      <th>P>|z|</th>  <th>[0.025</th>    <th>0.975]</th>  \n",
       "</tr>\n",
       "<tr>\n",
       "  <th>const</th>               <td>   -5.7807</td> <td>    0.340</td> <td>  -16.992</td> <td> 0.000</td> <td>   -6.447</td> <td>   -5.114</td>\n",
       "</tr>\n",
       "<tr>\n",
       "  <th>page_rank_quantile</th>  <td>    0.2105</td> <td>    0.063</td> <td>    3.340</td> <td> 0.001</td> <td>    0.087</td> <td>    0.334</td>\n",
       "</tr>\n",
       "<tr>\n",
       "  <th>auth_score_quantile</th> <td>    0.0623</td> <td>    0.061</td> <td>    1.022</td> <td> 0.307</td> <td>   -0.057</td> <td>    0.182</td>\n",
       "</tr>\n",
       "<tr>\n",
       "  <th>hub_score_quantile</th>  <td>   -0.0542</td> <td>    0.026</td> <td>   -2.050</td> <td> 0.040</td> <td>   -0.106</td> <td>   -0.002</td>\n",
       "</tr>\n",
       "<tr>\n",
       "  <th>n_citacoes</th>          <td>    0.0019</td> <td>    0.008</td> <td>    0.230</td> <td> 0.818</td> <td>   -0.014</td> <td>    0.018</td>\n",
       "</tr>\n",
       "</table>"
      ],
      "text/plain": [
       "<class 'statsmodels.iolib.summary.Summary'>\n",
       "\"\"\"\n",
       "                           Logit Regression Results                           \n",
       "==============================================================================\n",
       "Dep. Variable:                 citado   No. Observations:                 3903\n",
       "Model:                          Logit   Df Residuals:                     3898\n",
       "Method:                           MLE   Df Model:                            4\n",
       "Date:                Mon, 19 Nov 2018   Pseudo R-squ.:                  0.1554\n",
       "Time:                        15:30:27   Log-Likelihood:                -114.75\n",
       "converged:                       True   LL-Null:                       -135.86\n",
       "                                        LLR p-value:                 1.493e-08\n",
       "=======================================================================================\n",
       "                          coef    std err          z      P>|z|      [0.025      0.975]\n",
       "---------------------------------------------------------------------------------------\n",
       "const                  -5.7807      0.340    -16.992      0.000      -6.447      -5.114\n",
       "page_rank_quantile      0.2105      0.063      3.340      0.001       0.087       0.334\n",
       "auth_score_quantile     0.0623      0.061      1.022      0.307      -0.057       0.182\n",
       "hub_score_quantile     -0.0542      0.026     -2.050      0.040      -0.106      -0.002\n",
       "n_citacoes              0.0019      0.008      0.230      0.818      -0.014       0.018\n",
       "=======================================================================================\n",
       "\"\"\""
      ]
     },
     "execution_count": 44,
     "metadata": {},
     "output_type": "execute_result"
    }
   ],
   "source": [
    "logit_result.summary()"
   ]
  },
  {
   "cell_type": "markdown",
   "metadata": {},
   "source": [
    "Testando modelo sem número de citações"
   ]
  },
  {
   "cell_type": "code",
   "execution_count": 45,
   "metadata": {},
   "outputs": [
    {
     "data": {
      "text/html": [
       "<table class=\"simpletable\">\n",
       "<caption>Logit Regression Results</caption>\n",
       "<tr>\n",
       "  <th>Dep. Variable:</th>      <td>citado</td>      <th>  No. Observations:  </th>  <td>  3903</td>  \n",
       "</tr>\n",
       "<tr>\n",
       "  <th>Model:</th>               <td>Logit</td>      <th>  Df Residuals:      </th>  <td>  3899</td>  \n",
       "</tr>\n",
       "<tr>\n",
       "  <th>Method:</th>               <td>MLE</td>       <th>  Df Model:          </th>  <td>     3</td>  \n",
       "</tr>\n",
       "<tr>\n",
       "  <th>Date:</th>          <td>Mon, 19 Nov 2018</td> <th>  Pseudo R-squ.:     </th>  <td>0.1552</td>  \n",
       "</tr>\n",
       "<tr>\n",
       "  <th>Time:</th>              <td>15:30:27</td>     <th>  Log-Likelihood:    </th> <td> -114.77</td> \n",
       "</tr>\n",
       "<tr>\n",
       "  <th>converged:</th>           <td>True</td>       <th>  LL-Null:           </th> <td> -135.86</td> \n",
       "</tr>\n",
       "<tr>\n",
       "  <th> </th>                      <td> </td>        <th>  LLR p-value:       </th> <td>3.668e-09</td>\n",
       "</tr>\n",
       "</table>\n",
       "<table class=\"simpletable\">\n",
       "<tr>\n",
       "           <td></td>              <th>coef</th>     <th>std err</th>      <th>z</th>      <th>P>|z|</th>  <th>[0.025</th>    <th>0.975]</th>  \n",
       "</tr>\n",
       "<tr>\n",
       "  <th>const</th>               <td>   -5.7872</td> <td>    0.340</td> <td>  -17.035</td> <td> 0.000</td> <td>   -6.453</td> <td>   -5.121</td>\n",
       "</tr>\n",
       "<tr>\n",
       "  <th>page_rank_quantile</th>  <td>    0.2129</td> <td>    0.062</td> <td>    3.442</td> <td> 0.001</td> <td>    0.092</td> <td>    0.334</td>\n",
       "</tr>\n",
       "<tr>\n",
       "  <th>auth_score_quantile</th> <td>    0.0646</td> <td>    0.060</td> <td>    1.084</td> <td> 0.279</td> <td>   -0.052</td> <td>    0.181</td>\n",
       "</tr>\n",
       "<tr>\n",
       "  <th>hub_score_quantile</th>  <td>   -0.0545</td> <td>    0.026</td> <td>   -2.063</td> <td> 0.039</td> <td>   -0.106</td> <td>   -0.003</td>\n",
       "</tr>\n",
       "</table>"
      ],
      "text/plain": [
       "<class 'statsmodels.iolib.summary.Summary'>\n",
       "\"\"\"\n",
       "                           Logit Regression Results                           \n",
       "==============================================================================\n",
       "Dep. Variable:                 citado   No. Observations:                 3903\n",
       "Model:                          Logit   Df Residuals:                     3899\n",
       "Method:                           MLE   Df Model:                            3\n",
       "Date:                Mon, 19 Nov 2018   Pseudo R-squ.:                  0.1552\n",
       "Time:                        15:30:27   Log-Likelihood:                -114.77\n",
       "converged:                       True   LL-Null:                       -135.86\n",
       "                                        LLR p-value:                 3.668e-09\n",
       "=======================================================================================\n",
       "                          coef    std err          z      P>|z|      [0.025      0.975]\n",
       "---------------------------------------------------------------------------------------\n",
       "const                  -5.7872      0.340    -17.035      0.000      -6.453      -5.121\n",
       "page_rank_quantile      0.2129      0.062      3.442      0.001       0.092       0.334\n",
       "auth_score_quantile     0.0646      0.060      1.084      0.279      -0.052       0.181\n",
       "hub_score_quantile     -0.0545      0.026     -2.063      0.039      -0.106      -0.003\n",
       "=======================================================================================\n",
       "\"\"\""
      ]
     },
     "execution_count": 45,
     "metadata": {},
     "output_type": "execute_result"
    }
   ],
   "source": [
    "X = desapro_df[['page_rank_quantile', 'auth_score_quantile', 'hub_score_quantile']]\n",
    "X = sm.add_constant(X)\n",
    "\n",
    "logit_model = sm.Logit(exog=X,\n",
    "                       endog=desapro_df['citado'])\n",
    "\n",
    "logit_result = logit_model.fit(disp=False)\n",
    "\n",
    "logit_result.summary()"
   ]
  },
  {
   "cell_type": "markdown",
   "metadata": {},
   "source": [
    "Comando para exportar tabela em latex"
   ]
  },
  {
   "cell_type": "code",
   "execution_count": 46,
   "metadata": {
    "scrolled": false
   },
   "outputs": [],
   "source": [
    "# print(logit_result.summary().as_latex())"
   ]
  },
  {
   "cell_type": "markdown",
   "metadata": {},
   "source": [
    "## Testes"
   ]
  },
  {
   "cell_type": "code",
   "execution_count": 47,
   "metadata": {},
   "outputs": [
    {
     "data": {
      "text/html": [
       "<table class=\"simpletable\">\n",
       "<caption>Logit Regression Results</caption>\n",
       "<tr>\n",
       "  <th>Dep. Variable:</th>      <td>citado</td>      <th>  No. Observations:  </th>  <td>  3903</td>  \n",
       "</tr>\n",
       "<tr>\n",
       "  <th>Model:</th>               <td>Logit</td>      <th>  Df Residuals:      </th>  <td>  3897</td>  \n",
       "</tr>\n",
       "<tr>\n",
       "  <th>Method:</th>               <td>MLE</td>       <th>  Df Model:          </th>  <td>     5</td>  \n",
       "</tr>\n",
       "<tr>\n",
       "  <th>Date:</th>          <td>Mon, 19 Nov 2018</td> <th>  Pseudo R-squ.:     </th>  <td>0.1652</td>  \n",
       "</tr>\n",
       "<tr>\n",
       "  <th>Time:</th>              <td>15:30:28</td>     <th>  Log-Likelihood:    </th> <td> -113.42</td> \n",
       "</tr>\n",
       "<tr>\n",
       "  <th>converged:</th>           <td>True</td>       <th>  LL-Null:           </th> <td> -135.86</td> \n",
       "</tr>\n",
       "<tr>\n",
       "  <th> </th>                      <td> </td>        <th>  LLR p-value:       </th> <td>1.531e-08</td>\n",
       "</tr>\n",
       "</table>\n",
       "<table class=\"simpletable\">\n",
       "<tr>\n",
       "           <td></td>              <th>coef</th>     <th>std err</th>      <th>z</th>      <th>P>|z|</th>  <th>[0.025</th>    <th>0.975]</th>  \n",
       "</tr>\n",
       "<tr>\n",
       "  <th>const</th>               <td>   -5.8161</td> <td>    0.346</td> <td>  -16.806</td> <td> 0.000</td> <td>   -6.494</td> <td>   -5.138</td>\n",
       "</tr>\n",
       "<tr>\n",
       "  <th>page_rank_quantile</th>  <td>    0.0460</td> <td>    0.129</td> <td>    0.357</td> <td> 0.721</td> <td>   -0.206</td> <td>    0.298</td>\n",
       "</tr>\n",
       "<tr>\n",
       "  <th>auth_score_quantile</th> <td>    0.0173</td> <td>    0.069</td> <td>    0.250</td> <td> 0.803</td> <td>   -0.119</td> <td>    0.153</td>\n",
       "</tr>\n",
       "<tr>\n",
       "  <th>hub_score_quantile</th>  <td>   -0.0599</td> <td>    0.028</td> <td>   -2.132</td> <td> 0.033</td> <td>   -0.115</td> <td>   -0.005</td>\n",
       "</tr>\n",
       "<tr>\n",
       "  <th>n_citacoes</th>          <td>   -0.0081</td> <td>    0.012</td> <td>   -0.675</td> <td> 0.500</td> <td>   -0.031</td> <td>    0.015</td>\n",
       "</tr>\n",
       "<tr>\n",
       "  <th>marc</th>                <td>    0.5627</td> <td>    0.356</td> <td>    1.580</td> <td> 0.114</td> <td>   -0.135</td> <td>    1.261</td>\n",
       "</tr>\n",
       "</table>"
      ],
      "text/plain": [
       "<class 'statsmodels.iolib.summary.Summary'>\n",
       "\"\"\"\n",
       "                           Logit Regression Results                           \n",
       "==============================================================================\n",
       "Dep. Variable:                 citado   No. Observations:                 3903\n",
       "Model:                          Logit   Df Residuals:                     3897\n",
       "Method:                           MLE   Df Model:                            5\n",
       "Date:                Mon, 19 Nov 2018   Pseudo R-squ.:                  0.1652\n",
       "Time:                        15:30:28   Log-Likelihood:                -113.42\n",
       "converged:                       True   LL-Null:                       -135.86\n",
       "                                        LLR p-value:                 1.531e-08\n",
       "=======================================================================================\n",
       "                          coef    std err          z      P>|z|      [0.025      0.975]\n",
       "---------------------------------------------------------------------------------------\n",
       "const                  -5.8161      0.346    -16.806      0.000      -6.494      -5.138\n",
       "page_rank_quantile      0.0460      0.129      0.357      0.721      -0.206       0.298\n",
       "auth_score_quantile     0.0173      0.069      0.250      0.803      -0.119       0.153\n",
       "hub_score_quantile     -0.0599      0.028     -2.132      0.033      -0.115      -0.005\n",
       "n_citacoes             -0.0081      0.012     -0.675      0.500      -0.031       0.015\n",
       "marc                    0.5627      0.356      1.580      0.114      -0.135       1.261\n",
       "=======================================================================================\n",
       "\"\"\""
      ]
     },
     "execution_count": 47,
     "metadata": {},
     "output_type": "execute_result"
    }
   ],
   "source": [
    "X = desapro_df[['page_rank_quantile', 'auth_score_quantile', 'hub_score_quantile', 'n_citacoes', 'marc']]\n",
    "X = sm.add_constant(X)\n",
    "\n",
    "logit_model = sm.Logit(exog=X,\n",
    "                       endog=desapro_df['citado'])\n",
    "\n",
    "logit_result4 = logit_model.fit(disp=False)\n",
    "\n",
    "logit_result4.summary()"
   ]
  },
  {
   "cell_type": "code",
   "execution_count": 48,
   "metadata": {},
   "outputs": [
    {
     "data": {
      "text/html": [
       "<table class=\"simpletable\">\n",
       "<caption>Logit Regression Results</caption>\n",
       "<tr>\n",
       "  <th>Dep. Variable:</th>      <td>citado</td>      <th>  No. Observations:  </th>  <td>  3903</td>  \n",
       "</tr>\n",
       "<tr>\n",
       "  <th>Model:</th>               <td>Logit</td>      <th>  Df Residuals:      </th>  <td>  3900</td>  \n",
       "</tr>\n",
       "<tr>\n",
       "  <th>Method:</th>               <td>MLE</td>       <th>  Df Model:          </th>  <td>     2</td>  \n",
       "</tr>\n",
       "<tr>\n",
       "  <th>Date:</th>          <td>Mon, 19 Nov 2018</td> <th>  Pseudo R-squ.:     </th>  <td>0.1606</td>  \n",
       "</tr>\n",
       "<tr>\n",
       "  <th>Time:</th>              <td>15:30:29</td>     <th>  Log-Likelihood:    </th> <td> -114.04</td> \n",
       "</tr>\n",
       "<tr>\n",
       "  <th>converged:</th>           <td>True</td>       <th>  LL-Null:           </th> <td> -135.86</td> \n",
       "</tr>\n",
       "<tr>\n",
       "  <th> </th>                      <td> </td>        <th>  LLR p-value:       </th> <td>3.340e-10</td>\n",
       "</tr>\n",
       "</table>\n",
       "<table class=\"simpletable\">\n",
       "<tr>\n",
       "           <td></td>             <th>coef</th>     <th>std err</th>      <th>z</th>      <th>P>|z|</th>  <th>[0.025</th>    <th>0.975]</th>  \n",
       "</tr>\n",
       "<tr>\n",
       "  <th>const</th>              <td>   -5.7336</td> <td>    0.327</td> <td>  -17.518</td> <td> 0.000</td> <td>   -6.375</td> <td>   -5.092</td>\n",
       "</tr>\n",
       "<tr>\n",
       "  <th>hub_score_quantile</th> <td>   -0.0568</td> <td>    0.027</td> <td>   -2.101</td> <td> 0.036</td> <td>   -0.110</td> <td>   -0.004</td>\n",
       "</tr>\n",
       "<tr>\n",
       "  <th>marc</th>               <td>    0.6306</td> <td>    0.087</td> <td>    7.211</td> <td> 0.000</td> <td>    0.459</td> <td>    0.802</td>\n",
       "</tr>\n",
       "</table>"
      ],
      "text/plain": [
       "<class 'statsmodels.iolib.summary.Summary'>\n",
       "\"\"\"\n",
       "                           Logit Regression Results                           \n",
       "==============================================================================\n",
       "Dep. Variable:                 citado   No. Observations:                 3903\n",
       "Model:                          Logit   Df Residuals:                     3900\n",
       "Method:                           MLE   Df Model:                            2\n",
       "Date:                Mon, 19 Nov 2018   Pseudo R-squ.:                  0.1606\n",
       "Time:                        15:30:29   Log-Likelihood:                -114.04\n",
       "converged:                       True   LL-Null:                       -135.86\n",
       "                                        LLR p-value:                 3.340e-10\n",
       "======================================================================================\n",
       "                         coef    std err          z      P>|z|      [0.025      0.975]\n",
       "--------------------------------------------------------------------------------------\n",
       "const                 -5.7336      0.327    -17.518      0.000      -6.375      -5.092\n",
       "hub_score_quantile    -0.0568      0.027     -2.101      0.036      -0.110      -0.004\n",
       "marc                   0.6306      0.087      7.211      0.000       0.459       0.802\n",
       "======================================================================================\n",
       "\"\"\""
      ]
     },
     "execution_count": 48,
     "metadata": {},
     "output_type": "execute_result"
    }
   ],
   "source": [
    "X = desapro_df[['hub_score_quantile', 'marc']]\n",
    "X = sm.add_constant(X)\n",
    "\n",
    "logit_model = sm.Logit(exog=X,\n",
    "                       endog=desapro_df['citado'])\n",
    "\n",
    "logit_result3 = logit_model.fit(disp=False)\n",
    "\n",
    "logit_result3.summary()"
   ]
  },
  {
   "cell_type": "code",
   "execution_count": 49,
   "metadata": {},
   "outputs": [],
   "source": [
    "# sns.regplot(x='page_rank_quantile', y='citado', data=desapro_df, fit_reg=True, logistic=True)"
   ]
  }
 ],
 "metadata": {
  "kernelspec": {
   "display_name": "Python 3",
   "language": "python",
   "name": "python3"
  },
  "language_info": {
   "codemirror_mode": {
    "name": "ipython",
    "version": 3
   },
   "file_extension": ".py",
   "mimetype": "text/x-python",
   "name": "python",
   "nbconvert_exporter": "python",
   "pygments_lexer": "ipython3",
   "version": "3.5.2"
  }
 },
 "nbformat": 4,
 "nbformat_minor": 2
}
