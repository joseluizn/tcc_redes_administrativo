{
 "cells": [
  {
   "cell_type": "code",
   "execution_count": 2,
   "metadata": {},
   "outputs": [],
   "source": [
    "import pandas as pd\n",
    "import networkx as nx\n",
    "import statsmodels.api as sm\n",
    "import seaborn as sns\n",
    "%matplotlib inline\n",
    "\n",
    "import community\n",
    "\n",
    "from pathlib import Path"
   ]
  },
  {
   "cell_type": "code",
   "execution_count": 3,
   "metadata": {},
   "outputs": [],
   "source": [
    "data = Path().absolute()/'data'"
   ]
  },
  {
   "cell_type": "markdown",
   "metadata": {},
   "source": [
    "## Reading Graph for Moralidade"
   ]
  },
  {
   "cell_type": "code",
   "execution_count": 5,
   "metadata": {},
   "outputs": [],
   "source": [
    "moral_graph = nx.read_graphml(str(data.parent/'grafo_moralidade.graphml'))"
   ]
  },
  {
   "cell_type": "markdown",
   "metadata": {},
   "source": [
    "### Generating data for  Black Subgraph"
   ]
  },
  {
   "cell_type": "code",
   "execution_count": 6,
   "metadata": {},
   "outputs": [
    {
     "data": {
      "text/plain": [
       "{'Modularity Class': 1585,\n",
       " 'b': 62,\n",
       " 'date': '2013-12-04',\n",
       " 'g': 70,\n",
       " 'label': 'MS 28330',\n",
       " 'r': 76,\n",
       " 'size': 10.0,\n",
       " 'soi': 3772820,\n",
       " 'x': 1010.7037,\n",
       " 'y': -1727.5911}"
      ]
     },
     "execution_count": 6,
     "metadata": {},
     "output_type": "execute_result"
    }
   ],
   "source": [
    "moral_graph.nodes()['MS 28330']"
   ]
  },
  {
   "cell_type": "code",
   "execution_count": 7,
   "metadata": {},
   "outputs": [],
   "source": [
    "beige = [n for n,v in desapro_graph.nodes(data=True) if v['Modularity Class'] == 1585]"
   ]
  },
  {
   "cell_type": "code",
   "execution_count": 8,
   "metadata": {},
   "outputs": [
    {
     "data": {
      "text/plain": [
       "98"
      ]
     },
     "execution_count": 8,
     "metadata": {},
     "output_type": "execute_result"
    }
   ],
   "source": [
    "len(beige)"
   ]
  },
  {
   "cell_type": "code",
   "execution_count": 10,
   "metadata": {},
   "outputs": [],
   "source": [
    "beige_sg = desapro_graph.subgraph(beige)"
   ]
  },
  {
   "cell_type": "code",
   "execution_count": 11,
   "metadata": {},
   "outputs": [],
   "source": [
    "pr_beige = pd.Series(nx.algorithms.link_analysis.pagerank(beige_sg),\n",
    "                 name='page_rank').to_frame()"
   ]
  },
  {
   "cell_type": "code",
   "execution_count": 17,
   "metadata": {},
   "outputs": [
    {
     "data": {
      "text/html": [
       "<div>\n",
       "<style scoped>\n",
       "    .dataframe tbody tr th:only-of-type {\n",
       "        vertical-align: middle;\n",
       "    }\n",
       "\n",
       "    .dataframe tbody tr th {\n",
       "        vertical-align: top;\n",
       "    }\n",
       "\n",
       "    .dataframe thead th {\n",
       "        text-align: right;\n",
       "    }\n",
       "</style>\n",
       "<table border=\"1\" class=\"dataframe\">\n",
       "  <thead>\n",
       "    <tr style=\"text-align: right;\">\n",
       "      <th></th>\n",
       "      <th>page_rank</th>\n",
       "    </tr>\n",
       "  </thead>\n",
       "  <tbody>\n",
       "    <tr>\n",
       "      <th>MS 25116</th>\n",
       "      <td>0.093876</td>\n",
       "    </tr>\n",
       "    <tr>\n",
       "      <th>RE 227480</th>\n",
       "      <td>0.064940</td>\n",
       "    </tr>\n",
       "    <tr>\n",
       "      <th>MS 27160</th>\n",
       "      <td>0.064352</td>\n",
       "    </tr>\n",
       "    <tr>\n",
       "      <th>MS 28720</th>\n",
       "      <td>0.058413</td>\n",
       "    </tr>\n",
       "    <tr>\n",
       "      <th>RE 598099</th>\n",
       "      <td>0.049395</td>\n",
       "    </tr>\n",
       "  </tbody>\n",
       "</table>\n",
       "</div>"
      ],
      "text/plain": [
       "           page_rank\n",
       "MS 25116    0.093876\n",
       "RE 227480   0.064940\n",
       "MS 27160    0.064352\n",
       "MS 28720    0.058413\n",
       "RE 598099   0.049395"
      ]
     },
     "execution_count": 17,
     "metadata": {},
     "output_type": "execute_result"
    }
   ],
   "source": [
    "pr_beige.sort_values('page_rank', ascending=False).head()"
   ]
  },
  {
   "cell_type": "markdown",
   "metadata": {},
   "source": [
    "### Selecting purple subgraph"
   ]
  },
  {
   "cell_type": "code",
   "execution_count": 13,
   "metadata": {},
   "outputs": [],
   "source": [
    "purple = [n for n,v in desapro_graph.nodes(data=True) if v['Modularity Class'] == 1105]"
   ]
  },
  {
   "cell_type": "code",
   "execution_count": 14,
   "metadata": {},
   "outputs": [
    {
     "data": {
      "text/plain": [
       "34"
      ]
     },
     "execution_count": 14,
     "metadata": {},
     "output_type": "execute_result"
    }
   ],
   "source": [
    "len(purple)"
   ]
  },
  {
   "cell_type": "code",
   "execution_count": 15,
   "metadata": {},
   "outputs": [],
   "source": [
    "pr_purple  = pd.Series(nx.algorithms.link_analysis.pagerank(desapro_graph.subgraph(purple)),\n",
    "                 name='page_rank').to_frame()"
   ]
  },
  {
   "cell_type": "code",
   "execution_count": 16,
   "metadata": {},
   "outputs": [
    {
     "data": {
      "text/html": [
       "<div>\n",
       "<style scoped>\n",
       "    .dataframe tbody tr th:only-of-type {\n",
       "        vertical-align: middle;\n",
       "    }\n",
       "\n",
       "    .dataframe tbody tr th {\n",
       "        vertical-align: top;\n",
       "    }\n",
       "\n",
       "    .dataframe thead th {\n",
       "        text-align: right;\n",
       "    }\n",
       "</style>\n",
       "<table border=\"1\" class=\"dataframe\">\n",
       "  <thead>\n",
       "    <tr style=\"text-align: right;\">\n",
       "      <th></th>\n",
       "      <th>page_rank</th>\n",
       "    </tr>\n",
       "  </thead>\n",
       "  <tbody>\n",
       "    <tr>\n",
       "      <th>RE 262134</th>\n",
       "      <td>0.171896</td>\n",
       "    </tr>\n",
       "    <tr>\n",
       "      <th>RE 252512</th>\n",
       "      <td>0.170175</td>\n",
       "    </tr>\n",
       "    <tr>\n",
       "      <th>RE 244217</th>\n",
       "      <td>0.100728</td>\n",
       "    </tr>\n",
       "    <tr>\n",
       "      <th>RE 511961</th>\n",
       "      <td>0.077482</td>\n",
       "    </tr>\n",
       "    <tr>\n",
       "      <th>RE 550005</th>\n",
       "      <td>0.060375</td>\n",
       "    </tr>\n",
       "  </tbody>\n",
       "</table>\n",
       "</div>"
      ],
      "text/plain": [
       "           page_rank\n",
       "RE 262134   0.171896\n",
       "RE 252512   0.170175\n",
       "RE 244217   0.100728\n",
       "RE 511961   0.077482\n",
       "RE 550005   0.060375"
      ]
     },
     "execution_count": 16,
     "metadata": {},
     "output_type": "execute_result"
    }
   ],
   "source": [
    "pr_purple.sort_values('page_rank', ascending=False).head()"
   ]
  }
 ],
 "metadata": {
  "kernelspec": {
   "display_name": "Python 3",
   "language": "python",
   "name": "python3"
  },
  "language_info": {
   "codemirror_mode": {
    "name": "ipython",
    "version": 3
   },
   "file_extension": ".py",
   "mimetype": "text/x-python",
   "name": "python",
   "nbconvert_exporter": "python",
   "pygments_lexer": "ipython3",
   "version": "3.5.2"
  }
 },
 "nbformat": 4,
 "nbformat_minor": 2
}
