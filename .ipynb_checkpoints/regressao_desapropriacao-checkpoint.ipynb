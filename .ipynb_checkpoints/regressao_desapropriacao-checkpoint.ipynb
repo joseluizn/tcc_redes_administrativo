{
 "cells": [
  {
   "cell_type": "code",
   "execution_count": 1,
   "metadata": {},
   "outputs": [],
   "source": [
    "import pandas as pd\n",
    "import numpy as np\n",
    "import networkx as nx\n",
    "import statsmodels.api as sm\n",
    "import seaborn as sns\n",
    "%matplotlib inline\n",
    "\n",
    "\n",
    "from sklearn import linear_model\n",
    "from pathlib import Path\n",
    "from matplotlib import pyplot as plt"
   ]
  },
  {
   "cell_type": "code",
   "execution_count": 2,
   "metadata": {},
   "outputs": [],
   "source": [
    "data = Path().absolute()/'data'"
   ]
  },
  {
   "cell_type": "markdown",
   "metadata": {},
   "source": [
    "## Importando dados de citação"
   ]
  },
  {
   "cell_type": "code",
   "execution_count": 3,
   "metadata": {},
   "outputs": [],
   "source": [
    "desapro_df = pd.read_csv(data/'citacoes_desapropriacao.csv')"
   ]
  },
  {
   "cell_type": "code",
   "execution_count": 4,
   "metadata": {
    "scrolled": true
   },
   "outputs": [
    {
     "data": {
      "text/plain": [
       "(108, 21)"
      ]
     },
     "execution_count": 4,
     "metadata": {},
     "output_type": "execute_result"
    }
   ],
   "source": [
    "desapro_df.shape"
   ]
  },
  {
   "cell_type": "markdown",
   "metadata": {},
   "source": [
    "Removing Sumulas"
   ]
  },
  {
   "cell_type": "code",
   "execution_count": 5,
   "metadata": {},
   "outputs": [],
   "source": [
    "desapro_df.query('~ @desapro_df.caso.str.contains(\"sumula\")',\n",
    "                 engine='python', inplace=True)"
   ]
  },
  {
   "cell_type": "code",
   "execution_count": 6,
   "metadata": {},
   "outputs": [
    {
     "name": "stdout",
     "output_type": "stream",
     "text": [
      "         caso  citacoes_total\n",
      "4    adi 2332              14\n",
      "3    adi 2260               8\n",
      "58  re 543974               8\n",
      "37  re 172816               7\n",
      "78   re 82300               5\n",
      "64  re 635336               5\n",
      "47  re 247866               5\n",
      "65   re 64559               5\n"
     ]
    }
   ],
   "source": [
    "print(desapro_df.sort_values('citacoes_total', ascending=False)[['caso','citacoes_total']].head(8))"
   ]
  },
  {
   "cell_type": "code",
   "execution_count": 7,
   "metadata": {
    "scrolled": true
   },
   "outputs": [
    {
     "data": {
      "text/html": [
       "<div>\n",
       "<style scoped>\n",
       "    .dataframe tbody tr th:only-of-type {\n",
       "        vertical-align: middle;\n",
       "    }\n",
       "\n",
       "    .dataframe tbody tr th {\n",
       "        vertical-align: top;\n",
       "    }\n",
       "\n",
       "    .dataframe thead th {\n",
       "        text-align: right;\n",
       "    }\n",
       "</style>\n",
       "<table border=\"1\" class=\"dataframe\">\n",
       "  <thead>\n",
       "    <tr style=\"text-align: right;\">\n",
       "      <th></th>\n",
       "      <th>0</th>\n",
       "    </tr>\n",
       "    <tr>\n",
       "      <th>citacoes_total</th>\n",
       "      <th></th>\n",
       "    </tr>\n",
       "  </thead>\n",
       "  <tbody>\n",
       "    <tr>\n",
       "      <th>2</th>\n",
       "      <td>64</td>\n",
       "    </tr>\n",
       "    <tr>\n",
       "      <th>3</th>\n",
       "      <td>15</td>\n",
       "    </tr>\n",
       "    <tr>\n",
       "      <th>4</th>\n",
       "      <td>6</td>\n",
       "    </tr>\n",
       "    <tr>\n",
       "      <th>5</th>\n",
       "      <td>4</td>\n",
       "    </tr>\n",
       "    <tr>\n",
       "      <th>7</th>\n",
       "      <td>1</td>\n",
       "    </tr>\n",
       "    <tr>\n",
       "      <th>8</th>\n",
       "      <td>2</td>\n",
       "    </tr>\n",
       "    <tr>\n",
       "      <th>14</th>\n",
       "      <td>1</td>\n",
       "    </tr>\n",
       "  </tbody>\n",
       "</table>\n",
       "</div>"
      ],
      "text/plain": [
       "                 0\n",
       "citacoes_total    \n",
       "2               64\n",
       "3               15\n",
       "4                6\n",
       "5                4\n",
       "7                1\n",
       "8                2\n",
       "14               1"
      ]
     },
     "execution_count": 7,
     "metadata": {},
     "output_type": "execute_result"
    }
   ],
   "source": [
    "desapro_df.groupby('citacoes_total').size().to_frame()"
   ]
  },
  {
   "cell_type": "markdown",
   "metadata": {},
   "source": [
    "## Carregando Grafo"
   ]
  },
  {
   "cell_type": "code",
   "execution_count": 8,
   "metadata": {},
   "outputs": [],
   "source": [
    "desapro_graph = nx.read_graphml(str(data.parent/'grafo_desapropriacao.graphml'))"
   ]
  },
  {
   "cell_type": "markdown",
   "metadata": {},
   "source": [
    "### Gerando gráfico com a distribuição dos graus"
   ]
  },
  {
   "cell_type": "markdown",
   "metadata": {},
   "source": [
    "Gráfico de In Degree"
   ]
  },
  {
   "cell_type": "code",
   "execution_count": 9,
   "metadata": {},
   "outputs": [],
   "source": [
    "in_degree = pd.Series(dict(desapro_graph.in_degree), name='Número de Citações Recebidas').reset_index()"
   ]
  },
  {
   "cell_type": "code",
   "execution_count": 10,
   "metadata": {},
   "outputs": [],
   "source": [
    "in_d_dist = in_degree.groupby('Número de Citações Recebidas').index.nunique().reset_index()\n",
    "\n",
    "in_d_dist.rename(columns={'index': 'Número de Casos'}, inplace=True)"
   ]
  },
  {
   "cell_type": "code",
   "execution_count": 11,
   "metadata": {},
   "outputs": [
    {
     "data": {
      "text/html": [
       "<div>\n",
       "<style scoped>\n",
       "    .dataframe tbody tr th:only-of-type {\n",
       "        vertical-align: middle;\n",
       "    }\n",
       "\n",
       "    .dataframe tbody tr th {\n",
       "        vertical-align: top;\n",
       "    }\n",
       "\n",
       "    .dataframe thead th {\n",
       "        text-align: right;\n",
       "    }\n",
       "</style>\n",
       "<table border=\"1\" class=\"dataframe\">\n",
       "  <thead>\n",
       "    <tr style=\"text-align: right;\">\n",
       "      <th></th>\n",
       "      <th>Número de Citações Recebidas</th>\n",
       "      <th>Número de Casos</th>\n",
       "    </tr>\n",
       "  </thead>\n",
       "  <tbody>\n",
       "    <tr>\n",
       "      <th>0</th>\n",
       "      <td>0</td>\n",
       "      <td>3973</td>\n",
       "    </tr>\n",
       "    <tr>\n",
       "      <th>1</th>\n",
       "      <td>1</td>\n",
       "      <td>218</td>\n",
       "    </tr>\n",
       "    <tr>\n",
       "      <th>2</th>\n",
       "      <td>2</td>\n",
       "      <td>113</td>\n",
       "    </tr>\n",
       "    <tr>\n",
       "      <th>3</th>\n",
       "      <td>3</td>\n",
       "      <td>57</td>\n",
       "    </tr>\n",
       "    <tr>\n",
       "      <th>4</th>\n",
       "      <td>4</td>\n",
       "      <td>48</td>\n",
       "    </tr>\n",
       "  </tbody>\n",
       "</table>\n",
       "</div>"
      ],
      "text/plain": [
       "   Número de Citações Recebidas  Número de Casos\n",
       "0                             0             3973\n",
       "1                             1              218\n",
       "2                             2              113\n",
       "3                             3               57\n",
       "4                             4               48"
      ]
     },
     "execution_count": 11,
     "metadata": {},
     "output_type": "execute_result"
    }
   ],
   "source": [
    "in_d_dist.head()"
   ]
  },
  {
   "cell_type": "code",
   "execution_count": 12,
   "metadata": {},
   "outputs": [
    {
     "data": {
      "image/png": "[encoded data removed]",
      "text/plain": [
       "<Figure size 864x864 with 1 Axes>"
      ]
     },
     "metadata": {},
     "output_type": "display_data"
    }
   ],
   "source": [
    "sns.set(rc={'figure.figsize':(12,12)}, font_scale=2)\n",
    "\n",
    "fig, ax = plt.subplots(figsize=(12,12))\n",
    "\n",
    "plt.xscale('log')\n",
    "plt.yscale('log')\n",
    "\n",
    "in_degree_graph = sns.scatterplot(x='Número de Citações Recebidas', y='Número de Casos', data=in_d_dist.drop(0), s=150,)"
   ]
  },
  {
   "cell_type": "code",
   "execution_count": 13,
   "metadata": {},
   "outputs": [],
   "source": [
    "fig.savefig('graficos/in_desapropriacao.png')"
   ]
  },
  {
   "cell_type": "markdown",
   "metadata": {},
   "source": [
    "Gráfico de Out Degree"
   ]
  },
  {
   "cell_type": "code",
   "execution_count": 14,
   "metadata": {},
   "outputs": [],
   "source": [
    "out_degree = pd.Series(dict(desapro_graph.out_degree), name='Número de Citações Realizadas').reset_index()"
   ]
  },
  {
   "cell_type": "code",
   "execution_count": 15,
   "metadata": {},
   "outputs": [],
   "source": [
    "out_d_dist = out_degree.groupby('Número de Citações Realizadas').index.nunique().reset_index()\n",
    "\n",
    "out_d_dist.rename(columns={'index': 'Número de Casos'}, inplace=True)"
   ]
  },
  {
   "cell_type": "code",
   "execution_count": 16,
   "metadata": {},
   "outputs": [
    {
     "data": {
      "text/html": [
       "<div>\n",
       "<style scoped>\n",
       "    .dataframe tbody tr th:only-of-type {\n",
       "        vertical-align: middle;\n",
       "    }\n",
       "\n",
       "    .dataframe tbody tr th {\n",
       "        vertical-align: top;\n",
       "    }\n",
       "\n",
       "    .dataframe thead th {\n",
       "        text-align: right;\n",
       "    }\n",
       "</style>\n",
       "<table border=\"1\" class=\"dataframe\">\n",
       "  <thead>\n",
       "    <tr style=\"text-align: right;\">\n",
       "      <th></th>\n",
       "      <th>Número de Citações Realizadas</th>\n",
       "      <th>Número de Casos</th>\n",
       "    </tr>\n",
       "  </thead>\n",
       "  <tbody>\n",
       "    <tr>\n",
       "      <th>0</th>\n",
       "      <td>0</td>\n",
       "      <td>2213</td>\n",
       "    </tr>\n",
       "    <tr>\n",
       "      <th>1</th>\n",
       "      <td>1</td>\n",
       "      <td>1328</td>\n",
       "    </tr>\n",
       "    <tr>\n",
       "      <th>2</th>\n",
       "      <td>2</td>\n",
       "      <td>417</td>\n",
       "    </tr>\n",
       "    <tr>\n",
       "      <th>3</th>\n",
       "      <td>3</td>\n",
       "      <td>185</td>\n",
       "    </tr>\n",
       "    <tr>\n",
       "      <th>4</th>\n",
       "      <td>4</td>\n",
       "      <td>214</td>\n",
       "    </tr>\n",
       "  </tbody>\n",
       "</table>\n",
       "</div>"
      ],
      "text/plain": [
       "   Número de Citações Realizadas  Número de Casos\n",
       "0                              0             2213\n",
       "1                              1             1328\n",
       "2                              2              417\n",
       "3                              3              185\n",
       "4                              4              214"
      ]
     },
     "execution_count": 16,
     "metadata": {},
     "output_type": "execute_result"
    }
   ],
   "source": [
    "out_d_dist.head()"
   ]
  },
  {
   "cell_type": "code",
   "execution_count": 17,
   "metadata": {
    "scrolled": false
   },
   "outputs": [
    {
     "data": {
      "image/png": "[encoded data removed]",
      "text/plain": [
       "<Figure size 864x864 with 1 Axes>"
      ]
     },
     "metadata": {},
     "output_type": "display_data"
    }
   ],
   "source": [
    "sns.set(rc={'figure.figsize':(12,12)}, font_scale=2)\n",
    "\n",
    "fig, ax = plt.subplots(figsize=(12,12))\n",
    "\n",
    "plt.xscale('log')\n",
    "plt.yscale('log')\n",
    "\n",
    "in_degree_graph = sns.scatterplot(x='Número de Citações Realizadas', y='Número de Casos', data=out_d_dist.drop(0), s=150,)"
   ]
  },
  {
   "cell_type": "code",
   "execution_count": 18,
   "metadata": {},
   "outputs": [],
   "source": [
    "fig.savefig('graficos/out_desapropriacao.png')"
   ]
  },
  {
   "cell_type": "markdown",
   "metadata": {},
   "source": [
    "### Removendo nós roxo - comunidade relativa ao RE 453740 que trata de juros para remuneração de servidores públicos"
   ]
  },
  {
   "cell_type": "code",
   "execution_count": 19,
   "metadata": {},
   "outputs": [],
   "source": [
    "other_nodes = [n for n,v in desapro_graph.nodes(data=True) if v['Modularity Class'] != 1774]"
   ]
  },
  {
   "cell_type": "code",
   "execution_count": 20,
   "metadata": {},
   "outputs": [
    {
     "data": {
      "text/plain": [
       "3903"
      ]
     },
     "execution_count": 20,
     "metadata": {},
     "output_type": "execute_result"
    }
   ],
   "source": [
    "len(other_nodes)"
   ]
  },
  {
   "cell_type": "code",
   "execution_count": 21,
   "metadata": {},
   "outputs": [],
   "source": [
    "graph = desapro_graph.subgraph(other_nodes)"
   ]
  },
  {
   "cell_type": "markdown",
   "metadata": {},
   "source": [
    "### Calculando PageRank e HITS"
   ]
  },
  {
   "cell_type": "code",
   "execution_count": 22,
   "metadata": {},
   "outputs": [],
   "source": [
    "pr_d = pd.Series(nx.algorithms.link_analysis.pagerank(graph),\n",
    "                 name='page_rank').to_frame()"
   ]
  },
  {
   "cell_type": "code",
   "execution_count": 23,
   "metadata": {},
   "outputs": [],
   "source": [
    "hub, auth = nx.algorithms.link_analysis.hits(graph)"
   ]
  },
  {
   "cell_type": "code",
   "execution_count": 24,
   "metadata": {},
   "outputs": [],
   "source": [
    "hub_d = pd.Series(hub, name='hub_score').to_frame()\n",
    "\n",
    "auth_d = pd.Series(auth, name='auth_score').to_frame()"
   ]
  },
  {
   "cell_type": "markdown",
   "metadata": {},
   "source": [
    "Adicionando Modularidade"
   ]
  },
  {
   "cell_type": "code",
   "execution_count": 25,
   "metadata": {},
   "outputs": [],
   "source": [
    "mod_d = pd.Series(nx.get_node_attributes(graph, 'Modularity Class'),\n",
    "                  name='modularity').to_frame()"
   ]
  },
  {
   "cell_type": "markdown",
   "metadata": {},
   "source": [
    "Obtendo número de citações"
   ]
  },
  {
   "cell_type": "code",
   "execution_count": 26,
   "metadata": {},
   "outputs": [],
   "source": [
    "n_cit = pd.Series(nx.get_node_attributes(graph, 'In-Degree'),\n",
    "                  name='n_citacoes').to_frame()"
   ]
  },
  {
   "cell_type": "markdown",
   "metadata": {},
   "source": [
    "Gerando Dataframe com todas as informações"
   ]
  },
  {
   "cell_type": "code",
   "execution_count": 27,
   "metadata": {},
   "outputs": [],
   "source": [
    "desaprop_info = mod_d.join(n_cit).join(pr_d).join(auth_d).join(hub_d)"
   ]
  },
  {
   "cell_type": "code",
   "execution_count": 28,
   "metadata": {},
   "outputs": [],
   "source": [
    "desaprop_info.index = desaprop_info.index.str.lower()"
   ]
  },
  {
   "cell_type": "markdown",
   "metadata": {},
   "source": [
    "Incluindo MARC In-degree"
   ]
  },
  {
   "cell_type": "code",
   "execution_count": 29,
   "metadata": {},
   "outputs": [
    {
     "name": "stderr",
     "output_type": "stream",
     "text": [
      "C:\\ProgramData\\Anaconda3\\lib\\site-packages\\ipykernel_launcher.py:1: RuntimeWarning: divide by zero encountered in log2\n",
      "  \"\"\"Entry point for launching an IPython kernel.\n"
     ]
    }
   ],
   "source": [
    "desaprop_info['marc'] = 1 + np.log2(desaprop_info['n_citacoes'])"
   ]
  },
  {
   "cell_type": "code",
   "execution_count": 30,
   "metadata": {},
   "outputs": [
    {
     "data": {
      "text/html": [
       "<div>\n",
       "<style scoped>\n",
       "    .dataframe tbody tr th:only-of-type {\n",
       "        vertical-align: middle;\n",
       "    }\n",
       "\n",
       "    .dataframe tbody tr th {\n",
       "        vertical-align: top;\n",
       "    }\n",
       "\n",
       "    .dataframe thead th {\n",
       "        text-align: right;\n",
       "    }\n",
       "</style>\n",
       "<table border=\"1\" class=\"dataframe\">\n",
       "  <thead>\n",
       "    <tr style=\"text-align: right;\">\n",
       "      <th></th>\n",
       "      <th>modularity</th>\n",
       "      <th>n_citacoes</th>\n",
       "      <th>page_rank</th>\n",
       "      <th>auth_score</th>\n",
       "      <th>hub_score</th>\n",
       "      <th>marc</th>\n",
       "    </tr>\n",
       "  </thead>\n",
       "  <tbody>\n",
       "    <tr>\n",
       "      <th>re 487446</th>\n",
       "      <td>162</td>\n",
       "      <td>0</td>\n",
       "      <td>0.000155</td>\n",
       "      <td>0.000000e+00</td>\n",
       "      <td>1.332038e-78</td>\n",
       "      <td>-inf</td>\n",
       "    </tr>\n",
       "    <tr>\n",
       "      <th>re 665719</th>\n",
       "      <td>750</td>\n",
       "      <td>0</td>\n",
       "      <td>0.000155</td>\n",
       "      <td>0.000000e+00</td>\n",
       "      <td>4.101548e-07</td>\n",
       "      <td>-inf</td>\n",
       "    </tr>\n",
       "    <tr>\n",
       "      <th>ms 24190</th>\n",
       "      <td>764</td>\n",
       "      <td>2</td>\n",
       "      <td>0.000185</td>\n",
       "      <td>7.666748e-10</td>\n",
       "      <td>1.410308e-10</td>\n",
       "      <td>2.000000</td>\n",
       "    </tr>\n",
       "    <tr>\n",
       "      <th>are 641021</th>\n",
       "      <td>184</td>\n",
       "      <td>1</td>\n",
       "      <td>0.000198</td>\n",
       "      <td>3.846871e-08</td>\n",
       "      <td>1.141110e-07</td>\n",
       "      <td>1.000000</td>\n",
       "    </tr>\n",
       "    <tr>\n",
       "      <th>ai 847566</th>\n",
       "      <td>750</td>\n",
       "      <td>14</td>\n",
       "      <td>0.001586</td>\n",
       "      <td>1.022753e-04</td>\n",
       "      <td>1.194375e-05</td>\n",
       "      <td>4.807355</td>\n",
       "    </tr>\n",
       "  </tbody>\n",
       "</table>\n",
       "</div>"
      ],
      "text/plain": [
       "            modularity  n_citacoes  page_rank    auth_score     hub_score  \\\n",
       "re 487446          162           0   0.000155  0.000000e+00  1.332038e-78   \n",
       "re 665719          750           0   0.000155  0.000000e+00  4.101548e-07   \n",
       "ms 24190           764           2   0.000185  7.666748e-10  1.410308e-10   \n",
       "are 641021         184           1   0.000198  3.846871e-08  1.141110e-07   \n",
       "ai 847566          750          14   0.001586  1.022753e-04  1.194375e-05   \n",
       "\n",
       "                marc  \n",
       "re 487446       -inf  \n",
       "re 665719       -inf  \n",
       "ms 24190    2.000000  \n",
       "are 641021  1.000000  \n",
       "ai 847566   4.807355  "
      ]
     },
     "execution_count": 30,
     "metadata": {},
     "output_type": "execute_result"
    }
   ],
   "source": [
    "desaprop_info.head()"
   ]
  },
  {
   "cell_type": "markdown",
   "metadata": {},
   "source": [
    "substituindo infinitos por 0"
   ]
  },
  {
   "cell_type": "code",
   "execution_count": 31,
   "metadata": {},
   "outputs": [],
   "source": [
    "desaprop_info.replace(-np.inf, 0, inplace=True)"
   ]
  },
  {
   "cell_type": "markdown",
   "metadata": {},
   "source": [
    "#### Gerando Quantis para cada coluna"
   ]
  },
  {
   "cell_type": "code",
   "execution_count": 32,
   "metadata": {},
   "outputs": [],
   "source": [
    "for c in desaprop_info[['page_rank', 'auth_score', 'hub_score']].columns:\n",
    "    desaprop_info[c + '_quantile'] = pd.qcut(desaprop_info[c], 1000, duplicates='drop', labels=False)/10"
   ]
  },
  {
   "cell_type": "markdown",
   "metadata": {},
   "source": [
    "### Juntando informação de citação com as medidas de rede"
   ]
  },
  {
   "cell_type": "code",
   "execution_count": 33,
   "metadata": {},
   "outputs": [],
   "source": [
    "desaprop_info.index.name = 'caso'\n",
    "desaprop_info.reset_index(drop=False, inplace=True)"
   ]
  },
  {
   "cell_type": "code",
   "execution_count": 34,
   "metadata": {},
   "outputs": [
    {
     "data": {
      "text/plain": [
       "(3903, 10)"
      ]
     },
     "execution_count": 34,
     "metadata": {},
     "output_type": "execute_result"
    }
   ],
   "source": [
    "desaprop_info.shape"
   ]
  },
  {
   "cell_type": "code",
   "execution_count": 35,
   "metadata": {},
   "outputs": [],
   "source": [
    "desapro_df = desapro_df.merge(desaprop_info, how='right')"
   ]
  },
  {
   "cell_type": "code",
   "execution_count": 36,
   "metadata": {},
   "outputs": [
    {
     "name": "stdout",
     "output_type": "stream",
     "text": [
      "<class 'pandas.core.frame.DataFrame'>\n",
      "Int64Index: 3903 entries, 0 to 3902\n",
      "Data columns (total 2 columns):\n",
      "citado       22 non-null float64\n",
      "page_rank    3903 non-null float64\n",
      "dtypes: float64(2)\n",
      "memory usage: 91.5 KB\n"
     ]
    }
   ],
   "source": [
    "desapro_df[['citado', 'page_rank']].info()"
   ]
  },
  {
   "cell_type": "code",
   "execution_count": 37,
   "metadata": {},
   "outputs": [],
   "source": [
    "desapro_df.fillna(0, inplace=True)"
   ]
  },
  {
   "cell_type": "code",
   "execution_count": 38,
   "metadata": {},
   "outputs": [
    {
     "data": {
      "text/html": [
       "<div>\n",
       "<style scoped>\n",
       "    .dataframe tbody tr th:only-of-type {\n",
       "        vertical-align: middle;\n",
       "    }\n",
       "\n",
       "    .dataframe tbody tr th {\n",
       "        vertical-align: top;\n",
       "    }\n",
       "\n",
       "    .dataframe thead th {\n",
       "        text-align: right;\n",
       "    }\n",
       "</style>\n",
       "<table border=\"1\" class=\"dataframe\">\n",
       "  <thead>\n",
       "    <tr style=\"text-align: right;\">\n",
       "      <th></th>\n",
       "      <th>caso</th>\n",
       "      <th>Alessandro Dantas Coutinho e Ronald Kruger Rodor, Manual de Direito Administrativo</th>\n",
       "      <th>Antonio Cecílio Moreira Pires Direito Administrativo 2a Ed</th>\n",
       "      <th>Aragão Curso de Direito Administrativo 2a Ed</th>\n",
       "      <th>Bandeira de Mello Curso de Direito Administrativo 31a Ed</th>\n",
       "      <th>Diógenes Gasparini Direito Administrativo 17a Ed</th>\n",
       "      <th>Fernanda Marinela Direito Administrativo 11a Ed</th>\n",
       "      <th>Hely Lopes Meirelles Direito Administrativo Brasileira 42a Ed</th>\n",
       "      <th>Irene Patrícia Nohara Direito Administrativo 8a Ed</th>\n",
       "      <th>José dos Santos Carvalho Filho 28a Ed</th>\n",
       "      <th>...</th>\n",
       "      <th>citacoes_total</th>\n",
       "      <th>modularity</th>\n",
       "      <th>n_citacoes</th>\n",
       "      <th>page_rank</th>\n",
       "      <th>auth_score</th>\n",
       "      <th>hub_score</th>\n",
       "      <th>marc</th>\n",
       "      <th>page_rank_quantile</th>\n",
       "      <th>auth_score_quantile</th>\n",
       "      <th>hub_score_quantile</th>\n",
       "    </tr>\n",
       "  </thead>\n",
       "  <tbody>\n",
       "    <tr>\n",
       "      <th>0</th>\n",
       "      <td>aco 2162</td>\n",
       "      <td>0.0</td>\n",
       "      <td>0.0</td>\n",
       "      <td>0.0</td>\n",
       "      <td>0.0</td>\n",
       "      <td>0.0</td>\n",
       "      <td>0.0</td>\n",
       "      <td>0.0</td>\n",
       "      <td>0.0</td>\n",
       "      <td>0.0</td>\n",
       "      <td>...</td>\n",
       "      <td>2.0</td>\n",
       "      <td>564</td>\n",
       "      <td>3</td>\n",
       "      <td>0.000536</td>\n",
       "      <td>7.566777e-104</td>\n",
       "      <td>0.000000e+00</td>\n",
       "      <td>2.584963</td>\n",
       "      <td>8.7</td>\n",
       "      <td>0.9</td>\n",
       "      <td>0.0</td>\n",
       "    </tr>\n",
       "    <tr>\n",
       "      <th>1</th>\n",
       "      <td>adi 2213</td>\n",
       "      <td>0.0</td>\n",
       "      <td>0.0</td>\n",
       "      <td>0.0</td>\n",
       "      <td>0.0</td>\n",
       "      <td>0.0</td>\n",
       "      <td>1.0</td>\n",
       "      <td>0.0</td>\n",
       "      <td>0.0</td>\n",
       "      <td>0.0</td>\n",
       "      <td>...</td>\n",
       "      <td>3.0</td>\n",
       "      <td>764</td>\n",
       "      <td>13</td>\n",
       "      <td>0.001404</td>\n",
       "      <td>2.659220e-08</td>\n",
       "      <td>1.716093e-11</td>\n",
       "      <td>4.700440</td>\n",
       "      <td>12.6</td>\n",
       "      <td>7.0</td>\n",
       "      <td>3.5</td>\n",
       "    </tr>\n",
       "    <tr>\n",
       "      <th>2</th>\n",
       "      <td>adi 2260</td>\n",
       "      <td>0.0</td>\n",
       "      <td>0.0</td>\n",
       "      <td>0.0</td>\n",
       "      <td>0.0</td>\n",
       "      <td>1.0</td>\n",
       "      <td>1.0</td>\n",
       "      <td>0.0</td>\n",
       "      <td>1.0</td>\n",
       "      <td>0.0</td>\n",
       "      <td>...</td>\n",
       "      <td>8.0</td>\n",
       "      <td>184</td>\n",
       "      <td>3</td>\n",
       "      <td>0.000326</td>\n",
       "      <td>5.747924e-06</td>\n",
       "      <td>0.000000e+00</td>\n",
       "      <td>2.584963</td>\n",
       "      <td>5.7</td>\n",
       "      <td>11.1</td>\n",
       "      <td>0.0</td>\n",
       "    </tr>\n",
       "    <tr>\n",
       "      <th>3</th>\n",
       "      <td>adi 2332</td>\n",
       "      <td>1.0</td>\n",
       "      <td>0.0</td>\n",
       "      <td>0.0</td>\n",
       "      <td>1.0</td>\n",
       "      <td>1.0</td>\n",
       "      <td>1.0</td>\n",
       "      <td>1.0</td>\n",
       "      <td>1.0</td>\n",
       "      <td>1.0</td>\n",
       "      <td>...</td>\n",
       "      <td>14.0</td>\n",
       "      <td>663</td>\n",
       "      <td>116</td>\n",
       "      <td>0.012114</td>\n",
       "      <td>5.316776e-04</td>\n",
       "      <td>0.000000e+00</td>\n",
       "      <td>7.857981</td>\n",
       "      <td>14.4</td>\n",
       "      <td>14.7</td>\n",
       "      <td>0.0</td>\n",
       "    </tr>\n",
       "    <tr>\n",
       "      <th>4</th>\n",
       "      <td>adi 4357</td>\n",
       "      <td>0.0</td>\n",
       "      <td>0.0</td>\n",
       "      <td>0.0</td>\n",
       "      <td>0.0</td>\n",
       "      <td>0.0</td>\n",
       "      <td>1.0</td>\n",
       "      <td>0.0</td>\n",
       "      <td>0.0</td>\n",
       "      <td>0.0</td>\n",
       "      <td>...</td>\n",
       "      <td>4.0</td>\n",
       "      <td>751</td>\n",
       "      <td>6</td>\n",
       "      <td>0.000838</td>\n",
       "      <td>1.594614e-04</td>\n",
       "      <td>0.000000e+00</td>\n",
       "      <td>3.584963</td>\n",
       "      <td>10.9</td>\n",
       "      <td>14.2</td>\n",
       "      <td>0.0</td>\n",
       "    </tr>\n",
       "  </tbody>\n",
       "</table>\n",
       "<p>5 rows × 30 columns</p>\n",
       "</div>"
      ],
      "text/plain": [
       "       caso  \\\n",
       "0  aco 2162   \n",
       "1  adi 2213   \n",
       "2  adi 2260   \n",
       "3  adi 2332   \n",
       "4  adi 4357   \n",
       "\n",
       "   Alessandro Dantas Coutinho e Ronald Kruger Rodor, Manual de Direito Administrativo  \\\n",
       "0                                                0.0                                    \n",
       "1                                                0.0                                    \n",
       "2                                                0.0                                    \n",
       "3                                                1.0                                    \n",
       "4                                                0.0                                    \n",
       "\n",
       "   Antonio Cecílio Moreira Pires Direito Administrativo 2a Ed  \\\n",
       "0                                                0.0            \n",
       "1                                                0.0            \n",
       "2                                                0.0            \n",
       "3                                                0.0            \n",
       "4                                                0.0            \n",
       "\n",
       "   Aragão Curso de Direito Administrativo 2a Ed  \\\n",
       "0                                           0.0   \n",
       "1                                           0.0   \n",
       "2                                           0.0   \n",
       "3                                           0.0   \n",
       "4                                           0.0   \n",
       "\n",
       "   Bandeira de Mello Curso de Direito Administrativo 31a Ed  \\\n",
       "0                                                0.0          \n",
       "1                                                0.0          \n",
       "2                                                0.0          \n",
       "3                                                1.0          \n",
       "4                                                0.0          \n",
       "\n",
       "   Diógenes Gasparini Direito Administrativo 17a Ed  \\\n",
       "0                                               0.0   \n",
       "1                                               0.0   \n",
       "2                                               1.0   \n",
       "3                                               1.0   \n",
       "4                                               0.0   \n",
       "\n",
       "   Fernanda Marinela Direito Administrativo 11a Ed  \\\n",
       "0                                              0.0   \n",
       "1                                              1.0   \n",
       "2                                              1.0   \n",
       "3                                              1.0   \n",
       "4                                              1.0   \n",
       "\n",
       "   Hely Lopes Meirelles Direito Administrativo Brasileira 42a Ed  \\\n",
       "0                                                0.0               \n",
       "1                                                0.0               \n",
       "2                                                0.0               \n",
       "3                                                1.0               \n",
       "4                                                0.0               \n",
       "\n",
       "   Irene Patrícia Nohara Direito Administrativo 8a Ed  \\\n",
       "0                                                0.0    \n",
       "1                                                0.0    \n",
       "2                                                1.0    \n",
       "3                                                1.0    \n",
       "4                                                0.0    \n",
       "\n",
       "   José dos Santos Carvalho Filho 28a Ed  ...  citacoes_total  modularity  \\\n",
       "0                                    0.0  ...             2.0         564   \n",
       "1                                    0.0  ...             3.0         764   \n",
       "2                                    0.0  ...             8.0         184   \n",
       "3                                    1.0  ...            14.0         663   \n",
       "4                                    0.0  ...             4.0         751   \n",
       "\n",
       "   n_citacoes  page_rank     auth_score     hub_score      marc  \\\n",
       "0           3   0.000536  7.566777e-104  0.000000e+00  2.584963   \n",
       "1          13   0.001404   2.659220e-08  1.716093e-11  4.700440   \n",
       "2           3   0.000326   5.747924e-06  0.000000e+00  2.584963   \n",
       "3         116   0.012114   5.316776e-04  0.000000e+00  7.857981   \n",
       "4           6   0.000838   1.594614e-04  0.000000e+00  3.584963   \n",
       "\n",
       "   page_rank_quantile  auth_score_quantile  hub_score_quantile  \n",
       "0                 8.7                  0.9                 0.0  \n",
       "1                12.6                  7.0                 3.5  \n",
       "2                 5.7                 11.1                 0.0  \n",
       "3                14.4                 14.7                 0.0  \n",
       "4                10.9                 14.2                 0.0  \n",
       "\n",
       "[5 rows x 30 columns]"
      ]
     },
     "execution_count": 38,
     "metadata": {},
     "output_type": "execute_result"
    }
   ],
   "source": [
    "desapro_df.head()"
   ]
  },
  {
   "cell_type": "markdown",
   "metadata": {},
   "source": [
    "## Gerando matriz de correlação "
   ]
  },
  {
   "cell_type": "code",
   "execution_count": 39,
   "metadata": {},
   "outputs": [],
   "source": [
    "des_cor = desapro_df[\n",
    "    [\n",
    "        'page_rank_quantile',\n",
    "        'auth_score_quantile',\n",
    "        'hub_score_quantile',\n",
    "        'citado']].corr(method='pearson')"
   ]
  },
  {
   "cell_type": "code",
   "execution_count": 40,
   "metadata": {
    "scrolled": false
   },
   "outputs": [
    {
     "data": {
      "image/png": "[encoded data removed]",
      "text/plain": [
       "<Figure size 576x504 with 2 Axes>"
      ]
     },
     "metadata": {},
     "output_type": "display_data"
    }
   ],
   "source": [
    "fig, ax = plt.subplots(figsize=(8,7))\n",
    "\n",
    "h = sns.heatmap(des_cor, cmap='RdBu_r', center=0, annot=True)\n",
    "\n",
    "fig.savefig('graficos/correlation_table', bbox_inches='tight')"
   ]
  },
  {
   "cell_type": "markdown",
   "metadata": {},
   "source": [
    "## Testando Modelos"
   ]
  },
  {
   "cell_type": "markdown",
   "metadata": {},
   "source": [
    "Linear Model"
   ]
  },
  {
   "cell_type": "code",
   "execution_count": 41,
   "metadata": {},
   "outputs": [
    {
     "name": "stderr",
     "output_type": "stream",
     "text": [
      "C:\\ProgramData\\Anaconda3\\lib\\site-packages\\numpy\\core\\fromnumeric.py:2223: FutureWarning: Method .ptp is deprecated and will be removed in a future version. Use numpy.ptp instead.\n",
      "  return ptp(axis=axis, out=out, **kwargs)\n"
     ]
    }
   ],
   "source": [
    "y_d1 = desapro_df.page_rank_quantile\n",
    "y_d2 = desapro_df.auth_score_quantile\n",
    "\n",
    "x_d = desapro_df.citacoes_total\n",
    "\n",
    "x_d = sm.add_constant(x_d, False)"
   ]
  },
  {
   "cell_type": "code",
   "execution_count": 42,
   "metadata": {},
   "outputs": [
    {
     "data": {
      "text/html": [
       "<table class=\"simpletable\">\n",
       "<caption>OLS Regression Results</caption>\n",
       "<tr>\n",
       "  <th>Dep. Variable:</th>    <td>page_rank_quantile</td> <th>  R-squared:         </th> <td>   0.016</td> \n",
       "</tr>\n",
       "<tr>\n",
       "  <th>Model:</th>                    <td>OLS</td>        <th>  Adj. R-squared:    </th> <td>   0.016</td> \n",
       "</tr>\n",
       "<tr>\n",
       "  <th>Method:</th>              <td>Least Squares</td>   <th>  F-statistic:       </th> <td>   62.55</td> \n",
       "</tr>\n",
       "<tr>\n",
       "  <th>Date:</th>              <td>Wed, 13 Feb 2019</td>  <th>  Prob (F-statistic):</th> <td>3.35e-15</td> \n",
       "</tr>\n",
       "<tr>\n",
       "  <th>Time:</th>                  <td>15:43:54</td>      <th>  Log-Likelihood:    </th> <td> -9833.5</td> \n",
       "</tr>\n",
       "<tr>\n",
       "  <th>No. Observations:</th>       <td>  3903</td>       <th>  AIC:               </th> <td>1.967e+04</td>\n",
       "</tr>\n",
       "<tr>\n",
       "  <th>Df Residuals:</th>           <td>  3901</td>       <th>  BIC:               </th> <td>1.968e+04</td>\n",
       "</tr>\n",
       "<tr>\n",
       "  <th>Df Model:</th>               <td>     1</td>       <th>                     </th>     <td> </td>    \n",
       "</tr>\n",
       "<tr>\n",
       "  <th>Covariance Type:</th>       <td>nonrobust</td>     <th>                     </th>     <td> </td>    \n",
       "</tr>\n",
       "</table>\n",
       "<table class=\"simpletable\">\n",
       "<tr>\n",
       "         <td></td>           <th>coef</th>     <th>std err</th>      <th>t</th>      <th>P>|t|</th>  <th>[0.025</th>    <th>0.975]</th>  \n",
       "</tr>\n",
       "<tr>\n",
       "  <th>citacoes_total</th> <td>    1.1380</td> <td>    0.144</td> <td>    7.909</td> <td> 0.000</td> <td>    0.856</td> <td>    1.420</td>\n",
       "</tr>\n",
       "<tr>\n",
       "  <th>const</th>          <td>    1.1155</td> <td>    0.048</td> <td>   23.142</td> <td> 0.000</td> <td>    1.021</td> <td>    1.210</td>\n",
       "</tr>\n",
       "</table>\n",
       "<table class=\"simpletable\">\n",
       "<tr>\n",
       "  <th>Omnibus:</th>       <td>2243.921</td> <th>  Durbin-Watson:     </th> <td>   2.040</td> \n",
       "</tr>\n",
       "<tr>\n",
       "  <th>Prob(Omnibus):</th>  <td> 0.000</td>  <th>  Jarque-Bera (JB):  </th> <td>13723.909</td>\n",
       "</tr>\n",
       "<tr>\n",
       "  <th>Skew:</th>           <td> 2.843</td>  <th>  Prob(JB):          </th> <td>    0.00</td> \n",
       "</tr>\n",
       "<tr>\n",
       "  <th>Kurtosis:</th>       <td>10.215</td>  <th>  Cond. No.          </th> <td>    2.99</td> \n",
       "</tr>\n",
       "</table><br/><br/>Warnings:<br/>[1] Standard Errors assume that the covariance matrix of the errors is correctly specified."
      ],
      "text/plain": [
       "<class 'statsmodels.iolib.summary.Summary'>\n",
       "\"\"\"\n",
       "                            OLS Regression Results                            \n",
       "==============================================================================\n",
       "Dep. Variable:     page_rank_quantile   R-squared:                       0.016\n",
       "Model:                            OLS   Adj. R-squared:                  0.016\n",
       "Method:                 Least Squares   F-statistic:                     62.55\n",
       "Date:                Wed, 13 Feb 2019   Prob (F-statistic):           3.35e-15\n",
       "Time:                        15:43:54   Log-Likelihood:                -9833.5\n",
       "No. Observations:                3903   AIC:                         1.967e+04\n",
       "Df Residuals:                    3901   BIC:                         1.968e+04\n",
       "Df Model:                           1                                         \n",
       "Covariance Type:            nonrobust                                         \n",
       "==================================================================================\n",
       "                     coef    std err          t      P>|t|      [0.025      0.975]\n",
       "----------------------------------------------------------------------------------\n",
       "citacoes_total     1.1380      0.144      7.909      0.000       0.856       1.420\n",
       "const              1.1155      0.048     23.142      0.000       1.021       1.210\n",
       "==============================================================================\n",
       "Omnibus:                     2243.921   Durbin-Watson:                   2.040\n",
       "Prob(Omnibus):                  0.000   Jarque-Bera (JB):            13723.909\n",
       "Skew:                           2.843   Prob(JB):                         0.00\n",
       "Kurtosis:                      10.215   Cond. No.                         2.99\n",
       "==============================================================================\n",
       "\n",
       "Warnings:\n",
       "[1] Standard Errors assume that the covariance matrix of the errors is correctly specified.\n",
       "\"\"\""
      ]
     },
     "execution_count": 42,
     "metadata": {},
     "output_type": "execute_result"
    }
   ],
   "source": [
    "linmodel_d_pr = sm.OLS(y_d1, x_d, missing='drop').fit()\n",
    "linmodel_d_pr.summary()"
   ]
  },
  {
   "cell_type": "code",
   "execution_count": 43,
   "metadata": {},
   "outputs": [
    {
     "data": {
      "text/html": [
       "<table class=\"simpletable\">\n",
       "<caption>OLS Regression Results</caption>\n",
       "<tr>\n",
       "  <th>Dep. Variable:</th>    <td>auth_score_quantile</td> <th>  R-squared:         </th> <td>   0.010</td> \n",
       "</tr>\n",
       "<tr>\n",
       "  <th>Model:</th>                    <td>OLS</td>         <th>  Adj. R-squared:    </th> <td>   0.010</td> \n",
       "</tr>\n",
       "<tr>\n",
       "  <th>Method:</th>              <td>Least Squares</td>    <th>  F-statistic:       </th> <td>   39.75</td> \n",
       "</tr>\n",
       "<tr>\n",
       "  <th>Date:</th>              <td>Wed, 13 Feb 2019</td>   <th>  Prob (F-statistic):</th> <td>3.20e-10</td> \n",
       "</tr>\n",
       "<tr>\n",
       "  <th>Time:</th>                  <td>15:43:54</td>       <th>  Log-Likelihood:    </th> <td> -10424.</td> \n",
       "</tr>\n",
       "<tr>\n",
       "  <th>No. Observations:</th>       <td>  3903</td>        <th>  AIC:               </th> <td>2.085e+04</td>\n",
       "</tr>\n",
       "<tr>\n",
       "  <th>Df Residuals:</th>           <td>  3901</td>        <th>  BIC:               </th> <td>2.087e+04</td>\n",
       "</tr>\n",
       "<tr>\n",
       "  <th>Df Model:</th>               <td>     1</td>        <th>                     </th>     <td> </td>    \n",
       "</tr>\n",
       "<tr>\n",
       "  <th>Covariance Type:</th>       <td>nonrobust</td>      <th>                     </th>     <td> </td>    \n",
       "</tr>\n",
       "</table>\n",
       "<table class=\"simpletable\">\n",
       "<tr>\n",
       "         <td></td>           <th>coef</th>     <th>std err</th>      <th>t</th>      <th>P>|t|</th>  <th>[0.025</th>    <th>0.975]</th>  \n",
       "</tr>\n",
       "<tr>\n",
       "  <th>citacoes_total</th> <td>    1.0556</td> <td>    0.167</td> <td>    6.305</td> <td> 0.000</td> <td>    0.727</td> <td>    1.384</td>\n",
       "</tr>\n",
       "<tr>\n",
       "  <th>const</th>          <td>    1.2874</td> <td>    0.056</td> <td>   22.955</td> <td> 0.000</td> <td>    1.177</td> <td>    1.397</td>\n",
       "</tr>\n",
       "</table>\n",
       "<table class=\"simpletable\">\n",
       "<tr>\n",
       "  <th>Omnibus:</th>       <td>2158.370</td> <th>  Durbin-Watson:     </th> <td>   1.999</td> \n",
       "</tr>\n",
       "<tr>\n",
       "  <th>Prob(Omnibus):</th>  <td> 0.000</td>  <th>  Jarque-Bera (JB):  </th> <td>11946.218</td>\n",
       "</tr>\n",
       "<tr>\n",
       "  <th>Skew:</th>           <td> 2.756</td>  <th>  Prob(JB):          </th> <td>    0.00</td> \n",
       "</tr>\n",
       "<tr>\n",
       "  <th>Kurtosis:</th>       <td> 9.563</td>  <th>  Cond. No.          </th> <td>    2.99</td> \n",
       "</tr>\n",
       "</table><br/><br/>Warnings:<br/>[1] Standard Errors assume that the covariance matrix of the errors is correctly specified."
      ],
      "text/plain": [
       "<class 'statsmodels.iolib.summary.Summary'>\n",
       "\"\"\"\n",
       "                             OLS Regression Results                            \n",
       "===============================================================================\n",
       "Dep. Variable:     auth_score_quantile   R-squared:                       0.010\n",
       "Model:                             OLS   Adj. R-squared:                  0.010\n",
       "Method:                  Least Squares   F-statistic:                     39.75\n",
       "Date:                 Wed, 13 Feb 2019   Prob (F-statistic):           3.20e-10\n",
       "Time:                         15:43:54   Log-Likelihood:                -10424.\n",
       "No. Observations:                 3903   AIC:                         2.085e+04\n",
       "Df Residuals:                     3901   BIC:                         2.087e+04\n",
       "Df Model:                            1                                         \n",
       "Covariance Type:             nonrobust                                         \n",
       "==================================================================================\n",
       "                     coef    std err          t      P>|t|      [0.025      0.975]\n",
       "----------------------------------------------------------------------------------\n",
       "citacoes_total     1.0556      0.167      6.305      0.000       0.727       1.384\n",
       "const              1.2874      0.056     22.955      0.000       1.177       1.397\n",
       "==============================================================================\n",
       "Omnibus:                     2158.370   Durbin-Watson:                   1.999\n",
       "Prob(Omnibus):                  0.000   Jarque-Bera (JB):            11946.218\n",
       "Skew:                           2.756   Prob(JB):                         0.00\n",
       "Kurtosis:                       9.563   Cond. No.                         2.99\n",
       "==============================================================================\n",
       "\n",
       "Warnings:\n",
       "[1] Standard Errors assume that the covariance matrix of the errors is correctly specified.\n",
       "\"\"\""
      ]
     },
     "execution_count": 43,
     "metadata": {},
     "output_type": "execute_result"
    }
   ],
   "source": [
    "linmodel_d_pr = sm.OLS(y_d2, x_d, missing='drop').fit()\n",
    "linmodel_d_pr.summary()"
   ]
  },
  {
   "cell_type": "code",
   "execution_count": 44,
   "metadata": {
    "scrolled": false
   },
   "outputs": [
    {
     "data": {
      "text/plain": [
       "<matplotlib.axes._subplots.AxesSubplot at 0x1a054d40828>"
      ]
     },
     "execution_count": 44,
     "metadata": {},
     "output_type": "execute_result"
    },
    {
     "data": {
      "image/png": "[encoded data removed]",
      "text/plain": [
       "<Figure size 864x864 with 1 Axes>"
      ]
     },
     "metadata": {},
     "output_type": "display_data"
    }
   ],
   "source": [
    "sns.regplot(x='citacoes_total', y='page_rank_quantile', data=desapro_df)"
   ]
  },
  {
   "cell_type": "code",
   "execution_count": 45,
   "metadata": {},
   "outputs": [
    {
     "data": {
      "text/plain": [
       "<matplotlib.axes._subplots.AxesSubplot at 0x1a054d53240>"
      ]
     },
     "execution_count": 45,
     "metadata": {},
     "output_type": "execute_result"
    },
    {
     "data": {
      "image/png": "[encoded data removed]",
      "text/plain": [
       "<Figure size 864x864 with 1 Axes>"
      ]
     },
     "metadata": {},
     "output_type": "display_data"
    }
   ],
   "source": [
    "sns.regplot(x='citacoes_total', y='auth_score_quantile', data=desapro_df)"
   ]
  },
  {
   "cell_type": "markdown",
   "metadata": {},
   "source": [
    "### Modelo Logístico"
   ]
  },
  {
   "cell_type": "markdown",
   "metadata": {},
   "source": [
    "testando modelo com todas as varíavais"
   ]
  },
  {
   "cell_type": "code",
   "execution_count": 46,
   "metadata": {},
   "outputs": [],
   "source": [
    "X = desapro_df[['page_rank_quantile', 'auth_score_quantile', 'hub_score_quantile', 'n_citacoes']]\n",
    "X = sm.add_constant(X)\n",
    "\n",
    "logit_model = sm.Logit(exog=X,\n",
    "                       endog=desapro_df['citado'])\n",
    "\n",
    "logit_result = logit_model.fit(disp=False)"
   ]
  },
  {
   "cell_type": "code",
   "execution_count": 47,
   "metadata": {},
   "outputs": [
    {
     "data": {
      "text/html": [
       "<table class=\"simpletable\">\n",
       "<caption>Logit Regression Results</caption>\n",
       "<tr>\n",
       "  <th>Dep. Variable:</th>      <td>citado</td>      <th>  No. Observations:  </th>  <td>  3903</td>  \n",
       "</tr>\n",
       "<tr>\n",
       "  <th>Model:</th>               <td>Logit</td>      <th>  Df Residuals:      </th>  <td>  3898</td>  \n",
       "</tr>\n",
       "<tr>\n",
       "  <th>Method:</th>               <td>MLE</td>       <th>  Df Model:          </th>  <td>     4</td>  \n",
       "</tr>\n",
       "<tr>\n",
       "  <th>Date:</th>          <td>Wed, 13 Feb 2019</td> <th>  Pseudo R-squ.:     </th>  <td>0.1553</td>  \n",
       "</tr>\n",
       "<tr>\n",
       "  <th>Time:</th>              <td>15:43:56</td>     <th>  Log-Likelihood:    </th> <td> -114.76</td> \n",
       "</tr>\n",
       "<tr>\n",
       "  <th>converged:</th>           <td>True</td>       <th>  LL-Null:           </th> <td> -135.86</td> \n",
       "</tr>\n",
       "<tr>\n",
       "  <th> </th>                      <td> </td>        <th>  LLR p-value:       </th> <td>1.511e-08</td>\n",
       "</tr>\n",
       "</table>\n",
       "<table class=\"simpletable\">\n",
       "<tr>\n",
       "           <td></td>              <th>coef</th>     <th>std err</th>      <th>z</th>      <th>P>|z|</th>  <th>[0.025</th>    <th>0.975]</th>  \n",
       "</tr>\n",
       "<tr>\n",
       "  <th>const</th>               <td>   -5.7781</td> <td>    0.340</td> <td>  -17.006</td> <td> 0.000</td> <td>   -6.444</td> <td>   -5.112</td>\n",
       "</tr>\n",
       "<tr>\n",
       "  <th>page_rank_quantile</th>  <td>    0.2101</td> <td>    0.063</td> <td>    3.335</td> <td> 0.001</td> <td>    0.087</td> <td>    0.334</td>\n",
       "</tr>\n",
       "<tr>\n",
       "  <th>auth_score_quantile</th> <td>    0.0626</td> <td>    0.061</td> <td>    1.028</td> <td> 0.304</td> <td>   -0.057</td> <td>    0.182</td>\n",
       "</tr>\n",
       "<tr>\n",
       "  <th>hub_score_quantile</th>  <td>   -0.0544</td> <td>    0.026</td> <td>   -2.051</td> <td> 0.040</td> <td>   -0.106</td> <td>   -0.002</td>\n",
       "</tr>\n",
       "<tr>\n",
       "  <th>n_citacoes</th>          <td>    0.0019</td> <td>    0.008</td> <td>    0.229</td> <td> 0.819</td> <td>   -0.014</td> <td>    0.018</td>\n",
       "</tr>\n",
       "</table>"
      ],
      "text/plain": [
       "<class 'statsmodels.iolib.summary.Summary'>\n",
       "\"\"\"\n",
       "                           Logit Regression Results                           \n",
       "==============================================================================\n",
       "Dep. Variable:                 citado   No. Observations:                 3903\n",
       "Model:                          Logit   Df Residuals:                     3898\n",
       "Method:                           MLE   Df Model:                            4\n",
       "Date:                Wed, 13 Feb 2019   Pseudo R-squ.:                  0.1553\n",
       "Time:                        15:43:56   Log-Likelihood:                -114.76\n",
       "converged:                       True   LL-Null:                       -135.86\n",
       "                                        LLR p-value:                 1.511e-08\n",
       "=======================================================================================\n",
       "                          coef    std err          z      P>|z|      [0.025      0.975]\n",
       "---------------------------------------------------------------------------------------\n",
       "const                  -5.7781      0.340    -17.006      0.000      -6.444      -5.112\n",
       "page_rank_quantile      0.2101      0.063      3.335      0.001       0.087       0.334\n",
       "auth_score_quantile     0.0626      0.061      1.028      0.304      -0.057       0.182\n",
       "hub_score_quantile     -0.0544      0.026     -2.051      0.040      -0.106      -0.002\n",
       "n_citacoes              0.0019      0.008      0.229      0.819      -0.014       0.018\n",
       "=======================================================================================\n",
       "\"\"\""
      ]
     },
     "execution_count": 47,
     "metadata": {},
     "output_type": "execute_result"
    }
   ],
   "source": [
    "logit_result.summary()"
   ]
  },
  {
   "cell_type": "markdown",
   "metadata": {},
   "source": [
    "Testando modelo sem número de citações"
   ]
  },
  {
   "cell_type": "code",
   "execution_count": 48,
   "metadata": {},
   "outputs": [
    {
     "data": {
      "text/html": [
       "<table class=\"simpletable\">\n",
       "<caption>Logit Regression Results</caption>\n",
       "<tr>\n",
       "  <th>Dep. Variable:</th>      <td>citado</td>      <th>  No. Observations:  </th>  <td>  3903</td>  \n",
       "</tr>\n",
       "<tr>\n",
       "  <th>Model:</th>               <td>Logit</td>      <th>  Df Residuals:      </th>  <td>  3899</td>  \n",
       "</tr>\n",
       "<tr>\n",
       "  <th>Method:</th>               <td>MLE</td>       <th>  Df Model:          </th>  <td>     3</td>  \n",
       "</tr>\n",
       "<tr>\n",
       "  <th>Date:</th>          <td>Wed, 13 Feb 2019</td> <th>  Pseudo R-squ.:     </th>  <td>0.1551</td>  \n",
       "</tr>\n",
       "<tr>\n",
       "  <th>Time:</th>              <td>15:43:56</td>     <th>  Log-Likelihood:    </th> <td> -114.78</td> \n",
       "</tr>\n",
       "<tr>\n",
       "  <th>converged:</th>           <td>True</td>       <th>  LL-Null:           </th> <td> -135.86</td> \n",
       "</tr>\n",
       "<tr>\n",
       "  <th> </th>                      <td> </td>        <th>  LLR p-value:       </th> <td>3.713e-09</td>\n",
       "</tr>\n",
       "</table>\n",
       "<table class=\"simpletable\">\n",
       "<tr>\n",
       "           <td></td>              <th>coef</th>     <th>std err</th>      <th>z</th>      <th>P>|z|</th>  <th>[0.025</th>    <th>0.975]</th>  \n",
       "</tr>\n",
       "<tr>\n",
       "  <th>const</th>               <td>   -5.7846</td> <td>    0.339</td> <td>  -17.049</td> <td> 0.000</td> <td>   -6.450</td> <td>   -5.120</td>\n",
       "</tr>\n",
       "<tr>\n",
       "  <th>page_rank_quantile</th>  <td>    0.2124</td> <td>    0.062</td> <td>    3.437</td> <td> 0.001</td> <td>    0.091</td> <td>    0.334</td>\n",
       "</tr>\n",
       "<tr>\n",
       "  <th>auth_score_quantile</th> <td>    0.0649</td> <td>    0.060</td> <td>    1.089</td> <td> 0.276</td> <td>   -0.052</td> <td>    0.182</td>\n",
       "</tr>\n",
       "<tr>\n",
       "  <th>hub_score_quantile</th>  <td>   -0.0547</td> <td>    0.026</td> <td>   -2.065</td> <td> 0.039</td> <td>   -0.107</td> <td>   -0.003</td>\n",
       "</tr>\n",
       "</table>"
      ],
      "text/plain": [
       "<class 'statsmodels.iolib.summary.Summary'>\n",
       "\"\"\"\n",
       "                           Logit Regression Results                           \n",
       "==============================================================================\n",
       "Dep. Variable:                 citado   No. Observations:                 3903\n",
       "Model:                          Logit   Df Residuals:                     3899\n",
       "Method:                           MLE   Df Model:                            3\n",
       "Date:                Wed, 13 Feb 2019   Pseudo R-squ.:                  0.1551\n",
       "Time:                        15:43:56   Log-Likelihood:                -114.78\n",
       "converged:                       True   LL-Null:                       -135.86\n",
       "                                        LLR p-value:                 3.713e-09\n",
       "=======================================================================================\n",
       "                          coef    std err          z      P>|z|      [0.025      0.975]\n",
       "---------------------------------------------------------------------------------------\n",
       "const                  -5.7846      0.339    -17.049      0.000      -6.450      -5.120\n",
       "page_rank_quantile      0.2124      0.062      3.437      0.001       0.091       0.334\n",
       "auth_score_quantile     0.0649      0.060      1.089      0.276      -0.052       0.182\n",
       "hub_score_quantile     -0.0547      0.026     -2.065      0.039      -0.107      -0.003\n",
       "=======================================================================================\n",
       "\"\"\""
      ]
     },
     "execution_count": 48,
     "metadata": {},
     "output_type": "execute_result"
    }
   ],
   "source": [
    "X = desapro_df[['page_rank_quantile', 'auth_score_quantile', 'hub_score_quantile']]\n",
    "X = sm.add_constant(X)\n",
    "\n",
    "logit_model = sm.Logit(exog=X,\n",
    "                       endog=desapro_df['citado'])\n",
    "\n",
    "logit_result = logit_model.fit(disp=False)\n",
    "\n",
    "logit_result.summary()"
   ]
  },
  {
   "cell_type": "markdown",
   "metadata": {},
   "source": [
    "Apenas Authority e Hub"
   ]
  },
  {
   "cell_type": "code",
   "execution_count": 49,
   "metadata": {},
   "outputs": [
    {
     "data": {
      "text/html": [
       "<table class=\"simpletable\">\n",
       "<caption>Logit Regression Results</caption>\n",
       "<tr>\n",
       "  <th>Dep. Variable:</th>      <td>citado</td>      <th>  No. Observations:  </th>  <td>  3903</td>  \n",
       "</tr>\n",
       "<tr>\n",
       "  <th>Model:</th>               <td>Logit</td>      <th>  Df Residuals:      </th>  <td>  3900</td>  \n",
       "</tr>\n",
       "<tr>\n",
       "  <th>Method:</th>               <td>MLE</td>       <th>  Df Model:          </th>  <td>     2</td>  \n",
       "</tr>\n",
       "<tr>\n",
       "  <th>Date:</th>          <td>Wed, 13 Feb 2019</td> <th>  Pseudo R-squ.:     </th>  <td>0.1165</td>  \n",
       "</tr>\n",
       "<tr>\n",
       "  <th>Time:</th>              <td>15:43:56</td>     <th>  Log-Likelihood:    </th> <td> -120.03</td> \n",
       "</tr>\n",
       "<tr>\n",
       "  <th>converged:</th>           <td>True</td>       <th>  LL-Null:           </th> <td> -135.86</td> \n",
       "</tr>\n",
       "<tr>\n",
       "  <th> </th>                      <td> </td>        <th>  LLR p-value:       </th> <td>1.334e-07</td>\n",
       "</tr>\n",
       "</table>\n",
       "<table class=\"simpletable\">\n",
       "<tr>\n",
       "           <td></td>              <th>coef</th>     <th>std err</th>      <th>z</th>      <th>P>|z|</th>  <th>[0.025</th>    <th>0.975]</th>  \n",
       "</tr>\n",
       "<tr>\n",
       "  <th>const</th>               <td>   -5.5445</td> <td>    0.307</td> <td>  -18.055</td> <td> 0.000</td> <td>   -6.146</td> <td>   -4.943</td>\n",
       "</tr>\n",
       "<tr>\n",
       "  <th>auth_score_quantile</th> <td>    0.2194</td> <td>    0.036</td> <td>    6.163</td> <td> 0.000</td> <td>    0.150</td> <td>    0.289</td>\n",
       "</tr>\n",
       "<tr>\n",
       "  <th>hub_score_quantile</th>  <td>   -0.0611</td> <td>    0.025</td> <td>   -2.400</td> <td> 0.016</td> <td>   -0.111</td> <td>   -0.011</td>\n",
       "</tr>\n",
       "</table>"
      ],
      "text/plain": [
       "<class 'statsmodels.iolib.summary.Summary'>\n",
       "\"\"\"\n",
       "                           Logit Regression Results                           \n",
       "==============================================================================\n",
       "Dep. Variable:                 citado   No. Observations:                 3903\n",
       "Model:                          Logit   Df Residuals:                     3900\n",
       "Method:                           MLE   Df Model:                            2\n",
       "Date:                Wed, 13 Feb 2019   Pseudo R-squ.:                  0.1165\n",
       "Time:                        15:43:56   Log-Likelihood:                -120.03\n",
       "converged:                       True   LL-Null:                       -135.86\n",
       "                                        LLR p-value:                 1.334e-07\n",
       "=======================================================================================\n",
       "                          coef    std err          z      P>|z|      [0.025      0.975]\n",
       "---------------------------------------------------------------------------------------\n",
       "const                  -5.5445      0.307    -18.055      0.000      -6.146      -4.943\n",
       "auth_score_quantile     0.2194      0.036      6.163      0.000       0.150       0.289\n",
       "hub_score_quantile     -0.0611      0.025     -2.400      0.016      -0.111      -0.011\n",
       "=======================================================================================\n",
       "\"\"\""
      ]
     },
     "execution_count": 49,
     "metadata": {},
     "output_type": "execute_result"
    }
   ],
   "source": [
    "X = desapro_df[['auth_score_quantile',\n",
    "                'hub_score_quantile']]\n",
    "X = sm.add_constant(X)\n",
    "\n",
    "logit_model = sm.Logit(exog=X,\n",
    "                       endog=desapro_df['citado'])\n",
    "\n",
    "logit_result4 = logit_model.fit(disp=False)\n",
    "\n",
    "logit_result4.summary()"
   ]
  },
  {
   "cell_type": "code",
   "execution_count": 50,
   "metadata": {},
   "outputs": [],
   "source": [
    "# print(logit_result4.summary().as_latex())"
   ]
  },
  {
   "cell_type": "markdown",
   "metadata": {},
   "source": [
    "Regressão PageRank e Hub"
   ]
  },
  {
   "cell_type": "code",
   "execution_count": 51,
   "metadata": {},
   "outputs": [
    {
     "data": {
      "text/html": [
       "<table class=\"simpletable\">\n",
       "<caption>Logit Regression Results</caption>\n",
       "<tr>\n",
       "  <th>Dep. Variable:</th>      <td>citado</td>      <th>  No. Observations:  </th>  <td>  3903</td>  \n",
       "</tr>\n",
       "<tr>\n",
       "  <th>Model:</th>               <td>Logit</td>      <th>  Df Residuals:      </th>  <td>  3900</td>  \n",
       "</tr>\n",
       "<tr>\n",
       "  <th>Method:</th>               <td>MLE</td>       <th>  Df Model:          </th>  <td>     2</td>  \n",
       "</tr>\n",
       "<tr>\n",
       "  <th>Date:</th>          <td>Wed, 13 Feb 2019</td> <th>  Pseudo R-squ.:     </th>  <td>0.1508</td>  \n",
       "</tr>\n",
       "<tr>\n",
       "  <th>Time:</th>              <td>15:43:56</td>     <th>  Log-Likelihood:    </th> <td> -115.38</td> \n",
       "</tr>\n",
       "<tr>\n",
       "  <th>converged:</th>           <td>True</td>       <th>  LL-Null:           </th> <td> -135.86</td> \n",
       "</tr>\n",
       "<tr>\n",
       "  <th> </th>                      <td> </td>        <th>  LLR p-value:       </th> <td>1.272e-09</td>\n",
       "</tr>\n",
       "</table>\n",
       "<table class=\"simpletable\">\n",
       "<tr>\n",
       "           <td></td>             <th>coef</th>     <th>std err</th>      <th>z</th>      <th>P>|z|</th>  <th>[0.025</th>    <th>0.975]</th>  \n",
       "</tr>\n",
       "<tr>\n",
       "  <th>const</th>              <td>   -5.7832</td> <td>    0.341</td> <td>  -16.979</td> <td> 0.000</td> <td>   -6.451</td> <td>   -5.116</td>\n",
       "</tr>\n",
       "<tr>\n",
       "  <th>page_rank_quantile</th> <td>    0.2628</td> <td>    0.038</td> <td>    6.844</td> <td> 0.000</td> <td>    0.188</td> <td>    0.338</td>\n",
       "</tr>\n",
       "<tr>\n",
       "  <th>hub_score_quantile</th> <td>   -0.0458</td> <td>    0.025</td> <td>   -1.802</td> <td> 0.071</td> <td>   -0.096</td> <td>    0.004</td>\n",
       "</tr>\n",
       "</table>"
      ],
      "text/plain": [
       "<class 'statsmodels.iolib.summary.Summary'>\n",
       "\"\"\"\n",
       "                           Logit Regression Results                           \n",
       "==============================================================================\n",
       "Dep. Variable:                 citado   No. Observations:                 3903\n",
       "Model:                          Logit   Df Residuals:                     3900\n",
       "Method:                           MLE   Df Model:                            2\n",
       "Date:                Wed, 13 Feb 2019   Pseudo R-squ.:                  0.1508\n",
       "Time:                        15:43:56   Log-Likelihood:                -115.38\n",
       "converged:                       True   LL-Null:                       -135.86\n",
       "                                        LLR p-value:                 1.272e-09\n",
       "======================================================================================\n",
       "                         coef    std err          z      P>|z|      [0.025      0.975]\n",
       "--------------------------------------------------------------------------------------\n",
       "const                 -5.7832      0.341    -16.979      0.000      -6.451      -5.116\n",
       "page_rank_quantile     0.2628      0.038      6.844      0.000       0.188       0.338\n",
       "hub_score_quantile    -0.0458      0.025     -1.802      0.071      -0.096       0.004\n",
       "======================================================================================\n",
       "\"\"\""
      ]
     },
     "execution_count": 51,
     "metadata": {},
     "output_type": "execute_result"
    }
   ],
   "source": [
    "X = desapro_df[['page_rank_quantile',\n",
    "                'hub_score_quantile']]\n",
    "X = sm.add_constant(X)\n",
    "\n",
    "logit_model = sm.Logit(exog=X,\n",
    "                       endog=desapro_df['citado'])\n",
    "\n",
    "logit_result5 = logit_model.fit(disp=False)\n",
    "\n",
    "logit_result5.summary()"
   ]
  },
  {
   "cell_type": "code",
   "execution_count": 52,
   "metadata": {},
   "outputs": [],
   "source": [
    "# print(logit_result5.summary().as_latex())"
   ]
  },
  {
   "cell_type": "markdown",
   "metadata": {},
   "source": [
    "Comando para exportar tabela em latex"
   ]
  },
  {
   "cell_type": "code",
   "execution_count": 53,
   "metadata": {
    "scrolled": false
   },
   "outputs": [],
   "source": [
    "# print(logit_result.summary().as_latex())"
   ]
  },
  {
   "cell_type": "markdown",
   "metadata": {},
   "source": [
    "## Testando Modelo Por Bootstrap"
   ]
  },
  {
   "cell_type": "code",
   "execution_count": 54,
   "metadata": {},
   "outputs": [],
   "source": [
    "def bootstrap_model(predicted_values):\n",
    "    import sys\n",
    "\n",
    "    # Realizando experimento\n",
    "    rand_vector = np.random.rand(predicted_values.shape[0])\n",
    "    exp_realization = (predicted_values > rand_vector) * 1\n",
    "#     n_previstos = np.sum(exp_realization)\n",
    "    \n",
    "    try:\n",
    "        # Fittando modelo para experimento\n",
    "        experiment_logit = sm.Logit(exog=X, endog=exp_realization)\n",
    "        experiment_fitted = experiment_logit.fit(disp=False, maxiter=100)\n",
    "        pseudo_r = experiment_fitted.prsquared\n",
    "        return pseudo_r\n",
    "    except np.linalg.LinAlgError as err:\n",
    "        if 'Singular matrix' in str(err):\n",
    "            return np.nan\n",
    "        else:\n",
    "            raise\n",
    "\n",
    "def test_bootstrap_model(fitted_model, X, n_iter=500, n_jobs=2):\n",
    "    from joblib import Parallel, delayed\n",
    "    predicted_values = fitted_model.predict(X)\n",
    "    \n",
    "    # Utilizando joblib para paralelizar loop\n",
    "    pseudo_rs = Parallel(n_jobs=n_jobs)(delayed(bootstrap_model)(predicted_values) for i in range(n_iter))\n",
    "    \n",
    "    return pseudo_rs"
   ]
  },
  {
   "cell_type": "code",
   "execution_count": 55,
   "metadata": {
    "scrolled": true
   },
   "outputs": [],
   "source": [
    "r_array = test_bootstrap_model(logit_result5, X, n_iter=50000, n_jobs=6)\n",
    "r_array = np.array(r_array)[~np.isnan(np.array(r_array))]"
   ]
  },
  {
   "cell_type": "code",
   "execution_count": 72,
   "metadata": {},
   "outputs": [
    {
     "name": "stdout",
     "output_type": "stream",
     "text": [
      "0.15872178132458248\n",
      "0.05211123663568546\n"
     ]
    }
   ],
   "source": [
    "print(np.mean(r_array))\n",
    "\n",
    "print(np.std(r_array))"
   ]
  },
  {
   "cell_type": "code",
   "execution_count": 73,
   "metadata": {},
   "outputs": [
    {
     "name": "stdout",
     "output_type": "stream",
     "text": [
      "0.4543401534748387\n",
      "0.00015258262569672887\n"
     ]
    }
   ],
   "source": [
    "print(np.max(r_array))\n",
    "\n",
    "print(np.min(r_array))"
   ]
  },
  {
   "cell_type": "code",
   "execution_count": 74,
   "metadata": {},
   "outputs": [
    {
     "data": {
      "text/plain": [
       "<matplotlib.axes._subplots.AxesSubplot at 0x1a054e358d0>"
      ]
     },
     "execution_count": 74,
     "metadata": {},
     "output_type": "execute_result"
    },
    {
     "data": {
      "image/png": "[encoded data removed]",
      "text/plain": [
       "<Figure size 864x864 with 1 Axes>"
      ]
     },
     "metadata": {},
     "output_type": "display_data"
    }
   ],
   "source": [
    "sns.distplot(r_array)"
   ]
  },
  {
   "cell_type": "markdown",
   "metadata": {},
   "source": [
    "## Testes"
   ]
  },
  {
   "cell_type": "markdown",
   "metadata": {},
   "source": [
    "Correlação entre todas as variáveis calculadas"
   ]
  },
  {
   "cell_type": "code",
   "execution_count": 42,
   "metadata": {},
   "outputs": [
    {
     "data": {
      "text/plain": [
       "<matplotlib.axes._subplots.AxesSubplot at 0x7f7e11798650>"
      ]
     },
     "execution_count": 42,
     "metadata": {},
     "output_type": "execute_result"
    },
    {
     "data": {
      "image/png": "[encoded data removed]",
      "text/plain": [
       "<Figure size 720x648 with 2 Axes>"
      ]
     },
     "metadata": {
      "needs_background": "light"
     },
     "output_type": "display_data"
    }
   ],
   "source": [
    "cor_geral = desapro_df[\n",
    "    [\n",
    "        'page_rank_quantile', 'auth_score_quantile',\n",
    "        'hub_score_quantile', 'n_citacoes', 'marc',\n",
    "        'citado', 'citacoes_total'\n",
    "    ]\n",
    "].corr(method='spearman')\n",
    "\n",
    "fig, ax = plt.subplots(figsize=(10,9))\n",
    "\n",
    "sns.heatmap(cor_geral, cmap='RdBu_r', center=0, annot=True)"
   ]
  },
  {
   "cell_type": "markdown",
   "metadata": {},
   "source": [
    "Regressão com hub e MARC"
   ]
  },
  {
   "cell_type": "code",
   "execution_count": 45,
   "metadata": {
    "scrolled": false
   },
   "outputs": [
    {
     "data": {
      "text/html": [
       "<table class=\"simpletable\">\n",
       "<caption>Logit Regression Results</caption>\n",
       "<tr>\n",
       "  <th>Dep. Variable:</th>      <td>citado</td>      <th>  No. Observations:  </th>  <td>  3903</td>  \n",
       "</tr>\n",
       "<tr>\n",
       "  <th>Model:</th>               <td>Logit</td>      <th>  Df Residuals:      </th>  <td>  3900</td>  \n",
       "</tr>\n",
       "<tr>\n",
       "  <th>Method:</th>               <td>MLE</td>       <th>  Df Model:          </th>  <td>     2</td>  \n",
       "</tr>\n",
       "<tr>\n",
       "  <th>Date:</th>          <td>Mon, 21 Jan 2019</td> <th>  Pseudo R-squ.:     </th>  <td>0.1606</td>  \n",
       "</tr>\n",
       "<tr>\n",
       "  <th>Time:</th>              <td>15:27:05</td>     <th>  Log-Likelihood:    </th> <td> -114.05</td> \n",
       "</tr>\n",
       "<tr>\n",
       "  <th>converged:</th>           <td>True</td>       <th>  LL-Null:           </th> <td> -135.86</td> \n",
       "</tr>\n",
       "<tr>\n",
       "  <th> </th>                      <td> </td>        <th>  LLR p-value:       </th> <td>3.347e-10</td>\n",
       "</tr>\n",
       "</table>\n",
       "<table class=\"simpletable\">\n",
       "<tr>\n",
       "           <td></td>             <th>coef</th>     <th>std err</th>      <th>z</th>      <th>P>|z|</th>  <th>[0.025</th>    <th>0.975]</th>  \n",
       "</tr>\n",
       "<tr>\n",
       "  <th>const</th>              <td>   -5.7335</td> <td>    0.327</td> <td>  -17.518</td> <td> 0.000</td> <td>   -6.375</td> <td>   -5.092</td>\n",
       "</tr>\n",
       "<tr>\n",
       "  <th>hub_score_quantile</th> <td>   -0.0569</td> <td>    0.027</td> <td>   -2.101</td> <td> 0.036</td> <td>   -0.110</td> <td>   -0.004</td>\n",
       "</tr>\n",
       "<tr>\n",
       "  <th>marc</th>               <td>    0.6306</td> <td>    0.087</td> <td>    7.212</td> <td> 0.000</td> <td>    0.459</td> <td>    0.802</td>\n",
       "</tr>\n",
       "</table>"
      ],
      "text/plain": [
       "<class 'statsmodels.iolib.summary.Summary'>\n",
       "\"\"\"\n",
       "                           Logit Regression Results                           \n",
       "==============================================================================\n",
       "Dep. Variable:                 citado   No. Observations:                 3903\n",
       "Model:                          Logit   Df Residuals:                     3900\n",
       "Method:                           MLE   Df Model:                            2\n",
       "Date:                Mon, 21 Jan 2019   Pseudo R-squ.:                  0.1606\n",
       "Time:                        15:27:05   Log-Likelihood:                -114.05\n",
       "converged:                       True   LL-Null:                       -135.86\n",
       "                                        LLR p-value:                 3.347e-10\n",
       "======================================================================================\n",
       "                         coef    std err          z      P>|z|      [0.025      0.975]\n",
       "--------------------------------------------------------------------------------------\n",
       "const                 -5.7335      0.327    -17.518      0.000      -6.375      -5.092\n",
       "hub_score_quantile    -0.0569      0.027     -2.101      0.036      -0.110      -0.004\n",
       "marc                   0.6306      0.087      7.212      0.000       0.459       0.802\n",
       "======================================================================================\n",
       "\"\"\""
      ]
     },
     "execution_count": 45,
     "metadata": {},
     "output_type": "execute_result"
    }
   ],
   "source": [
    "X = desapro_df[['hub_score_quantile', 'marc']]\n",
    "X = sm.add_constant(X)\n",
    "\n",
    "logit_model = sm.Logit(exog=X,\n",
    "                       endog=desapro_df['citado'])\n",
    "\n",
    "logit_result3 = logit_model.fit(disp=False)\n",
    "\n",
    "logit_result3.summary()"
   ]
  },
  {
   "cell_type": "code",
   "execution_count": null,
   "metadata": {},
   "outputs": [],
   "source": [
    "# sns.regplot(x='page_rank_quantile', y='citado', data=desapro_df, fit_reg=True, logistic=True)"
   ]
  },
  {
   "cell_type": "markdown",
   "metadata": {},
   "source": [
    "## Observações para alterar:\n",
    "\n",
    "* Alta correlação (colinearidade?) entre page rank e authority. \n",
    "    * Não comprometeu modelo mas significância foi afetada\n",
    "    * PR um pouco mais explicativo que authority"
   ]
  }
 ],
 "metadata": {
  "kernelspec": {
   "display_name": "Python 3",
   "language": "python",
   "name": "python3"
  },
  "language_info": {
   "codemirror_mode": {
    "name": "ipython",
    "version": 3
   },
   "file_extension": ".py",
   "mimetype": "text/x-python",
   "name": "python",
   "nbconvert_exporter": "python",
   "pygments_lexer": "ipython3",
   "version": "3.7.2"
  }
 },
 "nbformat": 4,
 "nbformat_minor": 2
}
