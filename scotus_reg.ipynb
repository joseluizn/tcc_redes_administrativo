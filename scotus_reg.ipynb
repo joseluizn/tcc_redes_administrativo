{
 "cells": [
  {
   "cell_type": "code",
   "execution_count": 24,
   "metadata": {},
   "outputs": [],
   "source": [
    "import scipy\n",
    "import numpy as np\n",
    "import pandas as pd\n",
    "import seaborn as sns\n",
    "import statsmodels.api as sm\n",
    "import matplotlib.pyplot as plt"
   ]
  },
  {
   "cell_type": "markdown",
   "metadata": {},
   "source": [
    "# Obtaining data\n",
    "\n",
    "Lik for dataset explanation by Fowler: http://fowler.ucsd.edu/judicial.htm"
   ]
  },
  {
   "cell_type": "code",
   "execution_count": 3,
   "metadata": {},
   "outputs": [
    {
     "data": {
      "text/html": [
       "<div>\n",
       "<style scoped>\n",
       "    .dataframe tbody tr th:only-of-type {\n",
       "        vertical-align: middle;\n",
       "    }\n",
       "\n",
       "    .dataframe tbody tr th {\n",
       "        vertical-align: top;\n",
       "    }\n",
       "\n",
       "    .dataframe thead th {\n",
       "        text-align: right;\n",
       "    }\n",
       "</style>\n",
       "<table border=\"1\" class=\"dataframe\">\n",
       "  <thead>\n",
       "    <tr style=\"text-align: right;\">\n",
       "      <th></th>\n",
       "      <th>caseid</th>\n",
       "      <th>usid</th>\n",
       "      <th>parties</th>\n",
       "      <th>year</th>\n",
       "      <th>overruled</th>\n",
       "      <th>overruling</th>\n",
       "      <th>oxford</th>\n",
       "      <th>liihc</th>\n",
       "      <th>indeg</th>\n",
       "      <th>outdeg</th>\n",
       "      <th>hub</th>\n",
       "      <th>hubrank</th>\n",
       "      <th>auth</th>\n",
       "      <th>authrank</th>\n",
       "      <th>between</th>\n",
       "      <th>incent</th>\n",
       "    </tr>\n",
       "  </thead>\n",
       "  <tbody>\n",
       "    <tr>\n",
       "      <th>0</th>\n",
       "      <td>1</td>\n",
       "      <td>1US1</td>\n",
       "      <td>NaN</td>\n",
       "      <td>1754</td>\n",
       "      <td>0</td>\n",
       "      <td>0</td>\n",
       "      <td>0</td>\n",
       "      <td>0</td>\n",
       "      <td>0</td>\n",
       "      <td>0</td>\n",
       "      <td>0.0</td>\n",
       "      <td>20250</td>\n",
       "      <td>0.0</td>\n",
       "      <td>20945</td>\n",
       "      <td>0.0</td>\n",
       "      <td>0.0</td>\n",
       "    </tr>\n",
       "    <tr>\n",
       "      <th>1</th>\n",
       "      <td>2</td>\n",
       "      <td>1US2</td>\n",
       "      <td>NaN</td>\n",
       "      <td>1759</td>\n",
       "      <td>0</td>\n",
       "      <td>0</td>\n",
       "      <td>0</td>\n",
       "      <td>0</td>\n",
       "      <td>0</td>\n",
       "      <td>0</td>\n",
       "      <td>0.0</td>\n",
       "      <td>20250</td>\n",
       "      <td>0.0</td>\n",
       "      <td>20945</td>\n",
       "      <td>0.0</td>\n",
       "      <td>0.0</td>\n",
       "    </tr>\n",
       "    <tr>\n",
       "      <th>2</th>\n",
       "      <td>3</td>\n",
       "      <td>1US3</td>\n",
       "      <td>NaN</td>\n",
       "      <td>1760</td>\n",
       "      <td>0</td>\n",
       "      <td>0</td>\n",
       "      <td>0</td>\n",
       "      <td>0</td>\n",
       "      <td>0</td>\n",
       "      <td>0</td>\n",
       "      <td>0.0</td>\n",
       "      <td>20250</td>\n",
       "      <td>0.0</td>\n",
       "      <td>20945</td>\n",
       "      <td>0.0</td>\n",
       "      <td>0.0</td>\n",
       "    </tr>\n",
       "  </tbody>\n",
       "</table>\n",
       "</div>"
      ],
      "text/plain": [
       "   caseid  usid parties  year  overruled overruling  oxford  liihc  indeg  \\\n",
       "0       1  1US1     NaN  1754          0          0       0      0      0   \n",
       "1       2  1US2     NaN  1759          0          0       0      0      0   \n",
       "2       3  1US3     NaN  1760          0          0       0      0      0   \n",
       "\n",
       "   outdeg  hub  hubrank  auth  authrank  between  incent  \n",
       "0       0  0.0    20250   0.0     20945      0.0     0.0  \n",
       "1       0  0.0    20250   0.0     20945      0.0     0.0  \n",
       "2       0  0.0    20250   0.0     20945      0.0     0.0  "
      ]
     },
     "execution_count": 3,
     "metadata": {},
     "output_type": "execute_result"
    }
   ],
   "source": [
    "url = \"http://jhfowler.ucsd.edu/data/judicial.csv\"\n",
    "\n",
    "df = pd.read_csv(\n",
    "    url\n",
    ")\n",
    "\n",
    "df.head(3)"
   ]
  },
  {
   "cell_type": "markdown",
   "metadata": {},
   "source": [
    "## Checking distribution of Hub rank and scores"
   ]
  },
  {
   "cell_type": "code",
   "execution_count": 5,
   "metadata": {},
   "outputs": [
    {
     "data": {
      "text/plain": [
       "<matplotlib.axes._subplots.AxesSubplot at 0x7fb5fd406e10>"
      ]
     },
     "execution_count": 5,
     "metadata": {},
     "output_type": "execute_result"
    },
    {
     "data": {
      "image/png": "[encoded data removed]",
      "text/plain": [
       "<Figure size 432x288 with 1 Axes>"
      ]
     },
     "metadata": {
      "needs_background": "light"
     },
     "output_type": "display_data"
    }
   ],
   "source": [
    "sns.distplot(\n",
    "    df.hubrank,\n",
    "    kde=False\n",
    ")"
   ]
  },
  {
   "cell_type": "code",
   "execution_count": 6,
   "metadata": {},
   "outputs": [
    {
     "data": {
      "text/plain": [
       "<matplotlib.axes._subplots.AxesSubplot at 0x7fb5fd22acc0>"
      ]
     },
     "execution_count": 6,
     "metadata": {},
     "output_type": "execute_result"
    },
    {
     "data": {
      "image/png": "[encoded data removed]",
      "text/plain": [
       "<Figure size 432x288 with 1 Axes>"
      ]
     },
     "metadata": {
      "needs_background": "light"
     },
     "output_type": "display_data"
    }
   ],
   "source": [
    "sns.distplot(\n",
    "    df.hub,\n",
    "    kde=False\n",
    ")"
   ]
  },
  {
   "cell_type": "code",
   "execution_count": 15,
   "metadata": {},
   "outputs": [
    {
     "data": {
      "text/plain": [
       "0.000000    10039\n",
       "0.000001        4\n",
       "0.000001        4\n",
       "0.000001       12\n",
       "0.000001       16\n",
       "0.107687        1\n",
       "0.109481        1\n",
       "0.109871        1\n",
       "0.109919        1\n",
       "0.127095        1\n",
       "Name: hub, dtype: int64"
      ]
     },
     "execution_count": 15,
     "metadata": {},
     "output_type": "execute_result"
    }
   ],
   "source": [
    "df.hub.value_counts().sort_index().iloc[np.r_[0:5, -5:0]]"
   ]
  },
  {
   "cell_type": "markdown",
   "metadata": {},
   "source": [
    "## Authority"
   ]
  },
  {
   "cell_type": "code",
   "execution_count": 8,
   "metadata": {},
   "outputs": [
    {
     "data": {
      "text/plain": [
       "<matplotlib.axes._subplots.AxesSubplot at 0x7fb5fcb571d0>"
      ]
     },
     "execution_count": 8,
     "metadata": {},
     "output_type": "execute_result"
    },
    {
     "data": {
      "image/png": "[encoded data removed]",
      "text/plain": [
       "<Figure size 432x288 with 1 Axes>"
      ]
     },
     "metadata": {
      "needs_background": "light"
     },
     "output_type": "display_data"
    }
   ],
   "source": [
    "sns.distplot(\n",
    "    df.authrank,\n",
    "    kde=False\n",
    ")"
   ]
  },
  {
   "cell_type": "code",
   "execution_count": 9,
   "metadata": {},
   "outputs": [
    {
     "data": {
      "text/plain": [
       "<matplotlib.axes._subplots.AxesSubplot at 0x7fb5fc5ca6d8>"
      ]
     },
     "execution_count": 9,
     "metadata": {},
     "output_type": "execute_result"
    },
    {
     "data": {
      "image/png": "[encoded data removed]",
      "text/plain": [
       "<Figure size 432x288 with 1 Axes>"
      ]
     },
     "metadata": {
      "needs_background": "light"
     },
     "output_type": "display_data"
    }
   ],
   "source": [
    "sns.distplot(\n",
    "    df.auth,\n",
    "    kde=False\n",
    ")"
   ]
  },
  {
   "cell_type": "code",
   "execution_count": 13,
   "metadata": {},
   "outputs": [
    {
     "data": {
      "text/plain": [
       "0.000000    9344\n",
       "0.000001       5\n",
       "0.000001       7\n",
       "0.000001      10\n",
       "0.150170       1\n",
       "0.152705       1\n",
       "0.159180       1\n",
       "0.187172       1\n",
       "Name: auth, dtype: int64"
      ]
     },
     "execution_count": 13,
     "metadata": {},
     "output_type": "execute_result"
    }
   ],
   "source": [
    "df.auth.value_counts().sort_index().iloc[np.r_[0:4, -4:0]]"
   ]
  },
  {
   "cell_type": "code",
   "execution_count": 20,
   "metadata": {},
   "outputs": [
    {
     "data": {
      "text/plain": [
       "1           1\n",
       "2           1\n",
       "3           1\n",
       "4           1\n",
       "20923      10\n",
       "20933       7\n",
       "20940       5\n",
       "20945    9344\n",
       "Name: authrank, dtype: int64"
      ]
     },
     "execution_count": 20,
     "metadata": {},
     "output_type": "execute_result"
    }
   ],
   "source": [
    "df.authrank.value_counts().sort_index().iloc[np.r_[0:4, -4:0]]"
   ]
  },
  {
   "cell_type": "code",
   "execution_count": 22,
   "metadata": {},
   "outputs": [
    {
     "data": {
      "text/plain": [
       "(30288, 17)"
      ]
     },
     "execution_count": 22,
     "metadata": {},
     "output_type": "execute_result"
    }
   ],
   "source": [
    "df.shape"
   ]
  },
  {
   "cell_type": "markdown",
   "metadata": {},
   "source": [
    "# Testing Logit"
   ]
  },
  {
   "cell_type": "code",
   "execution_count": 17,
   "metadata": {},
   "outputs": [
    {
     "data": {
      "text/html": [
       "<div>\n",
       "<style scoped>\n",
       "    .dataframe tbody tr th:only-of-type {\n",
       "        vertical-align: middle;\n",
       "    }\n",
       "\n",
       "    .dataframe tbody tr th {\n",
       "        vertical-align: top;\n",
       "    }\n",
       "\n",
       "    .dataframe thead th {\n",
       "        text-align: right;\n",
       "    }\n",
       "</style>\n",
       "<table border=\"1\" class=\"dataframe\">\n",
       "  <thead>\n",
       "    <tr style=\"text-align: right;\">\n",
       "      <th></th>\n",
       "      <th>caseid</th>\n",
       "      <th>usid</th>\n",
       "      <th>parties</th>\n",
       "      <th>year</th>\n",
       "      <th>overruled</th>\n",
       "      <th>overruling</th>\n",
       "      <th>oxford</th>\n",
       "      <th>liihc</th>\n",
       "      <th>indeg</th>\n",
       "      <th>outdeg</th>\n",
       "      <th>hub</th>\n",
       "      <th>hubrank</th>\n",
       "      <th>auth</th>\n",
       "      <th>authrank</th>\n",
       "      <th>between</th>\n",
       "      <th>incent</th>\n",
       "    </tr>\n",
       "  </thead>\n",
       "  <tbody>\n",
       "    <tr>\n",
       "      <th>0</th>\n",
       "      <td>1</td>\n",
       "      <td>1US1</td>\n",
       "      <td>NaN</td>\n",
       "      <td>1754</td>\n",
       "      <td>0</td>\n",
       "      <td>0</td>\n",
       "      <td>0</td>\n",
       "      <td>0</td>\n",
       "      <td>0</td>\n",
       "      <td>0</td>\n",
       "      <td>0.0</td>\n",
       "      <td>20250</td>\n",
       "      <td>0.0</td>\n",
       "      <td>20945</td>\n",
       "      <td>0.0</td>\n",
       "      <td>0.0</td>\n",
       "    </tr>\n",
       "    <tr>\n",
       "      <th>1</th>\n",
       "      <td>2</td>\n",
       "      <td>1US2</td>\n",
       "      <td>NaN</td>\n",
       "      <td>1759</td>\n",
       "      <td>0</td>\n",
       "      <td>0</td>\n",
       "      <td>0</td>\n",
       "      <td>0</td>\n",
       "      <td>0</td>\n",
       "      <td>0</td>\n",
       "      <td>0.0</td>\n",
       "      <td>20250</td>\n",
       "      <td>0.0</td>\n",
       "      <td>20945</td>\n",
       "      <td>0.0</td>\n",
       "      <td>0.0</td>\n",
       "    </tr>\n",
       "    <tr>\n",
       "      <th>2</th>\n",
       "      <td>3</td>\n",
       "      <td>1US3</td>\n",
       "      <td>NaN</td>\n",
       "      <td>1760</td>\n",
       "      <td>0</td>\n",
       "      <td>0</td>\n",
       "      <td>0</td>\n",
       "      <td>0</td>\n",
       "      <td>0</td>\n",
       "      <td>0</td>\n",
       "      <td>0.0</td>\n",
       "      <td>20250</td>\n",
       "      <td>0.0</td>\n",
       "      <td>20945</td>\n",
       "      <td>0.0</td>\n",
       "      <td>0.0</td>\n",
       "    </tr>\n",
       "  </tbody>\n",
       "</table>\n",
       "</div>"
      ],
      "text/plain": [
       "   caseid  usid parties  year  overruled overruling  oxford  liihc  indeg  \\\n",
       "0       1  1US1     NaN  1754          0          0       0      0      0   \n",
       "1       2  1US2     NaN  1759          0          0       0      0      0   \n",
       "2       3  1US3     NaN  1760          0          0       0      0      0   \n",
       "\n",
       "   outdeg  hub  hubrank  auth  authrank  between  incent  \n",
       "0       0  0.0    20250   0.0     20945      0.0     0.0  \n",
       "1       0  0.0    20250   0.0     20945      0.0     0.0  \n",
       "2       0  0.0    20250   0.0     20945      0.0     0.0  "
      ]
     },
     "execution_count": 17,
     "metadata": {},
     "output_type": "execute_result"
    }
   ],
   "source": [
    "df.head(3)"
   ]
  },
  {
   "cell_type": "markdown",
   "metadata": {},
   "source": [
    "## Creating column that defines citation of either Legal Rank"
   ]
  },
  {
   "cell_type": "code",
   "execution_count": 19,
   "metadata": {},
   "outputs": [],
   "source": [
    "df['cited_rank'] = df[['oxford', 'liihc']].max(axis=1)"
   ]
  },
  {
   "cell_type": "markdown",
   "metadata": {},
   "source": [
    "## Creating percentile column"
   ]
  },
  {
   "cell_type": "markdown",
   "metadata": {},
   "source": [
    "Creating new rank for percentile to replicate method used"
   ]
  },
  {
   "cell_type": "code",
   "execution_count": 25,
   "metadata": {},
   "outputs": [],
   "source": [
    "for c in df[['auth', 'hub']].columns:\n",
    "    df[c + '_quantile'] = scipy.stats.rankdata(df[c], method='max')*100/df.shape[0]"
   ]
  },
  {
   "cell_type": "markdown",
   "metadata": {},
   "source": [
    "## Defining columns"
   ]
  },
  {
   "cell_type": "code",
   "execution_count": 27,
   "metadata": {},
   "outputs": [
    {
     "name": "stderr",
     "output_type": "stream",
     "text": [
      "/home/joseluiz/anaconda3/lib/python3.7/site-packages/numpy/core/fromnumeric.py:2389: FutureWarning: Method .ptp is deprecated and will be removed in a future version. Use numpy.ptp instead.\n",
      "  return ptp(axis=axis, out=out, **kwargs)\n"
     ]
    }
   ],
   "source": [
    "X = df[['auth_quantile', 'hub_quantile']]\n",
    "\n",
    "X = sm.add_constant(X)\n",
    "\n",
    "y = df.cited_rank"
   ]
  },
  {
   "cell_type": "code",
   "execution_count": 28,
   "metadata": {},
   "outputs": [
    {
     "name": "stdout",
     "output_type": "stream",
     "text": [
      "Optimization terminated successfully.\n",
      "         Current function value: 0.086152\n",
      "         Iterations 10\n",
      "                           Logit Regression Results                           \n",
      "==============================================================================\n",
      "Dep. Variable:             cited_rank   No. Observations:                30288\n",
      "Model:                          Logit   Df Residuals:                    30285\n",
      "Method:                           MLE   Df Model:                            2\n",
      "Date:                Wed, 29 May 2019   Pseudo R-squ.:                  0.3297\n",
      "Time:                        12:09:37   Log-Likelihood:                -2609.4\n",
      "converged:                       True   LL-Null:                       -3892.9\n",
      "                                        LLR p-value:                     0.000\n",
      "=================================================================================\n",
      "                    coef    std err          z      P>|z|      [0.025      0.975]\n",
      "---------------------------------------------------------------------------------\n",
      "const           -12.6717      0.338    -37.519      0.000     -13.334     -12.010\n",
      "auth_quantile     0.0781      0.004     17.694      0.000       0.069       0.087\n",
      "hub_quantile      0.0414      0.004     11.482      0.000       0.034       0.049\n",
      "=================================================================================\n"
     ]
    }
   ],
   "source": [
    "reg = sm.Logit(y, X).fit()\n",
    "\n",
    "print(reg.summary())"
   ]
  }
 ],
 "metadata": {
  "kernelspec": {
   "display_name": "Python 3",
   "language": "python",
   "name": "python3"
  },
  "language_info": {
   "codemirror_mode": {
    "name": "ipython",
    "version": 3
   },
   "file_extension": ".py",
   "mimetype": "text/x-python",
   "name": "python",
   "nbconvert_exporter": "python",
   "pygments_lexer": "ipython3",
   "version": "3.7.2"
  }
 },
 "nbformat": 4,
 "nbformat_minor": 2
}
