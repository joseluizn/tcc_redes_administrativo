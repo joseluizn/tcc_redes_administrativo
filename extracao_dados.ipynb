{
 "cells": [
  {
   "cell_type": "code",
   "execution_count": 1,
   "metadata": {},
   "outputs": [],
   "source": [
    "import elasticsearch\n",
    "import re\n",
    "import yaml\n",
    "import pandas as pd\n",
    "\n",
    "\n",
    "from elasticsearch import helpers\n",
    "# Endereço da plataforma de precedentes: http://precedentes.cloud.fgv.br/search"
   ]
  },
  {
   "cell_type": "code",
   "execution_count": 2,
   "metadata": {},
   "outputs": [],
   "source": [
    "def get_con_elastic_search():\n",
    "    from pathlib import Path\n",
    "    \n",
    "    my_dir = Path('').absolute()\n",
    "    serv_config = my_dir/'elastic_search.yaml'\n",
    "    \n",
    "    with serv_config.open(mode='r') as f:\n",
    "        server = yaml.load(f)\n",
    "        return server\n",
    "    \n",
    "def get_con_stf():\n",
    "    from pathlib import Path\n",
    "    import sqlalchemy\n",
    "    \n",
    "    my_dir = Path('').absolute()\n",
    "    serv_config = my_dir/'stf_connection.yaml'\n",
    "\n",
    "    with serv_config.open(mode='r') as f:\n",
    "        server = yaml.load(f)\n",
    "\n",
    "    host = server['host']\n",
    "    database = server['database']\n",
    "    user = server['user']\n",
    "    password = server['password']\n",
    "\n",
    "    url = 'mysql+pymysql://{}:{}@{}/{}'\n",
    "    url = url.format(user, password, host, database)\n",
    "    return sqlalchemy.create_engine(url)"
   ]
  },
  {
   "cell_type": "code",
   "execution_count": 3,
   "metadata": {},
   "outputs": [],
   "source": [
    "con_es = get_con_elastic_search()\n",
    "con_stf = get_con_stf()"
   ]
  },
  {
   "cell_type": "markdown",
   "metadata": {},
   "source": [
    "Tarefas:\n",
    "\n",
    "* Unidade = Processo\n",
    "* Data - Última decisão disponível\n",
    "* Eliminar nós que não contém o termo\n",
    "* Análise de Clusters: Discartar clusters que contém apenas um nó e identificar autoridades dentro de cada cluster.\n",
    "* Destacar problema com julgamentos em bloco"
   ]
  },
  {
   "cell_type": "code",
   "execution_count": 4,
   "metadata": {},
   "outputs": [],
   "source": [
    "def busca(termo, con_dict):\n",
    "    \"\"\" Função para executar a busca por um termo na base de decisões\n",
    "    \"\"\"\n",
    "    # parâmetros de conexão com a base\n",
    "    connection_uri = {'host': 'aplcldrjvpr0017.acad.fgv.br', 'port': 9200}\n",
    "    # cria a conexão\n",
    "    connection = elasticsearch.Elasticsearch([connection_uri],\n",
    "                                       connection_class=elasticsearch.RequestsHttpConnection,\n",
    "                                       use_ssl=False)\n",
    "    # criando a consulta\n",
    "    query = {\n",
    "        \"query\" : {\n",
    "            \"query_string\": {\n",
    "                \"fields\" : [\"raw_text\"],\n",
    "                \"query\": termo\n",
    "                        }\n",
    "                }\n",
    "        }\n",
    "    \n",
    "    # retornando o resultado da consulta\n",
    "    resultado = helpers.scan(client=connection,\n",
    "                        query=query,\n",
    "                        index='stf',\n",
    "                        doc_type='decisoes',\n",
    "                        request_timeout=120\n",
    "                        )\n",
    "    # converte um resutado da busca para uma lista de documentos\n",
    "    resultado = list(resultado)\n",
    "    print(\"Foram encontrados %d results\" % len(resultado))\n",
    "    return resultado\n",
    "\n",
    "def extract_sig_num(title):\n",
    "    \"\"\" Extrai do título do documento a sigla e o número do processo.\n",
    "    \"\"\"\n",
    "    aux = re.findall(\"\\d+[-|_]([a-zA-Z]+)[-|_](\\d+)\", title)\n",
    "    sig = aux[0][0]\n",
    "    num = aux[0][1]\n",
    "    return sig, num\n",
    "\n",
    "def imprime_decisao(decisao):\n",
    "    sigla, numero = extract_sig_num(decisao['_source']['title'])\n",
    "    print(u\"Processo: \" + sigla + \" \" + numero)\n",
    "\n",
    "    if decisao['_source'].get('monocratica', False):\n",
    "        print(u\"Decisao monocratica publicada em \" + decisao['_source']['date'])\n",
    "    else:\n",
    "        print(u\"Acordao publicado em \" + decisao['_source']['date'])\n",
    "    \n",
    "    # imprime apenas os primeiros 100 caracteres\n",
    "    print(decisao['_source']['raw_text'][:400])"
   ]
  },
  {
   "cell_type": "code",
   "execution_count": 5,
   "metadata": {},
   "outputs": [],
   "source": [
    "def gerar_citacoes(decisoes):\n",
    "    arestas = []\n",
    "    nos = set()\n",
    "    for decisao in decisoes:\n",
    "        sigla, numero = extract_sig_num(decisao['_source']['title'])\n",
    "        node = \" \".join([sigla, numero]).upper()\n",
    "        nos.add(\n",
    "            (node)\n",
    "        )\n",
    "    for decisao in decisoes:\n",
    "        sigla, numero = extract_sig_num(decisao['_source']['title'])\n",
    "        node = \" \".join([sigla, numero]).upper()\n",
    "        citacoes = decisao['_source'].get('i_cite', [])\n",
    "        if len(citacoes) == 0:\n",
    "            pass\n",
    "        else:\n",
    "            for citacao in citacoes:\n",
    "                if 'STF' not in citacao:\n",
    "                    pass\n",
    "                else:\n",
    "                    kw = str.split(citacao)\n",
    "                    citado = \" \".join(kw[:-2]).upper()\n",
    "                    \n",
    "                    if citado in nos:\n",
    "                        arestas.append((node, citado))\n",
    "#                     elif \"SUM.\" in citado or \"sumula\" in citado.lower():\n",
    "#                         arestas.append((node, citado))\n",
    "                    else:\n",
    "                        pass   \n",
    "    return arestas, nos\n",
    "\n",
    "def get_soi_data_ultima_decisao(processos, con_stf):\n",
    "    \"\"\"Retorna seq_objeto_incidente e data da última decisão do processo\n",
    "    a partir de um objeto que pode ser convertido para tupla contendo items\n",
    "    de string no formato classe_processo + ' ' + num_processo\"\"\"\n",
    "    \n",
    "    query = \"\"\"\n",
    "    select processo.seq_objeto_incidente as soi,\n",
    "            concat(upper(sig_classe_proces), ' ', num_processo) as node,\n",
    "            andamento_processo.data_andamento\n",
    "    from STF.processo\n",
    "    left join\n",
    "        (select seq_objeto_incidente, data_andamento\n",
    "         from STF.andamento_processo\n",
    "         where cod_andamento in \n",
    "            (SELECT cod_andamento FROM STF.andamento\n",
    "             where seq_grupo_andamento in (27, 76, 28, 29)\n",
    "             )\n",
    "             ) as andamento_processo\n",
    "        on processo.seq_objeto_incidente = andamento_processo.seq_objeto_incidente \n",
    "    where  concat(upper(sig_classe_proces), ' ', num_processo) in {}\n",
    "    \"\"\".format(tuple(processos))\n",
    "    \n",
    "    df = pd.read_sql_query(query, con_stf)\n",
    "    df.sort_values('data_andamento', inplace=True)\n",
    "    df.drop_duplicates('soi', keep='last', inplace=True)\n",
    "    df['node'] = df.node.str.upper()\n",
    "    df['data_andamento'] = df.data_andamento.dt.strftime('%Y-%m-%d')\n",
    "    df.columns = ('soi', 'node', 'date')\n",
    "    return df\n",
    "\n",
    "def get_cd_assunto_administrativo(df, soi_column, con_stf, desaprop=False, limit_num_ordem=True):\n",
    "    sois = tuple(df[soi_column].unique())\n",
    "    if desaprop is True:\n",
    "        d = \"or ramo_do_direito like '%%desapropriacao%%'\"\n",
    "    else:\n",
    "        d = \"\"\n",
    "        \n",
    "    if limit_num_ordem is True:\n",
    "        num_ordem = 'num_ordem = 0 and'\n",
    "    else:\n",
    "        num_ordem = ''\n",
    "    query = '''\n",
    "    SELECT seq_objeto_incidente as soi, cod_assunto\n",
    "    FROM STF.assunto_processo\n",
    "    where seq_objeto_incidente in {} and\n",
    "    {}\n",
    "    cod_assunto in (\n",
    "        SELECT cod_assunto\n",
    "        FROM STF.assunto\n",
    "        where ramo_do_direito like '%%administrativo%%'\n",
    "        {});\n",
    "    '''.format(sois, num_ordem, d)\n",
    "    df_assunto = pd.read_sql_query(query, con_stf)\n",
    "    return df.merge(df_assunto, on=soi_column, how='left')"
   ]
  },
  {
   "cell_type": "markdown",
   "metadata": {},
   "source": [
    "##  Realizando Busca para Moralidade"
   ]
  },
  {
   "cell_type": "code",
   "execution_count": 6,
   "metadata": {},
   "outputs": [
    {
     "name": "stdout",
     "output_type": "stream",
     "text": [
      "Foram encontrados 5602 results\n"
     ]
    }
   ],
   "source": [
    "resultado = busca('\"princípio moralidade\"~3 OR \"moralidade administrativa\"~3', con_es)"
   ]
  },
  {
   "cell_type": "code",
   "execution_count": 7,
   "metadata": {},
   "outputs": [],
   "source": [
    "arestas, nos = gerar_citacoes(resultado)"
   ]
  },
  {
   "cell_type": "code",
   "execution_count": 8,
   "metadata": {},
   "outputs": [
    {
     "data": {
      "text/plain": [
       "5602"
      ]
     },
     "execution_count": 8,
     "metadata": {},
     "output_type": "execute_result"
    }
   ],
   "source": [
    "len(resultado)"
   ]
  },
  {
   "cell_type": "code",
   "execution_count": 9,
   "metadata": {},
   "outputs": [
    {
     "data": {
      "text/plain": [
       "3203"
      ]
     },
     "execution_count": 9,
     "metadata": {},
     "output_type": "execute_result"
    }
   ],
   "source": [
    "len(nos)"
   ]
  },
  {
   "cell_type": "code",
   "execution_count": 10,
   "metadata": {},
   "outputs": [
    {
     "data": {
      "text/plain": [
       "17081"
      ]
     },
     "execution_count": 10,
     "metadata": {},
     "output_type": "execute_result"
    }
   ],
   "source": [
    "len(arestas)"
   ]
  },
  {
   "cell_type": "code",
   "execution_count": 11,
   "metadata": {},
   "outputs": [],
   "source": [
    "nos_s = pd.Series(list(nos), name='node').to_frame()"
   ]
  },
  {
   "cell_type": "code",
   "execution_count": 12,
   "metadata": {},
   "outputs": [],
   "source": [
    "info_nos = get_soi_data_ultima_decisao(nos, con_stf)"
   ]
  },
  {
   "cell_type": "code",
   "execution_count": 13,
   "metadata": {
    "scrolled": true
   },
   "outputs": [
    {
     "data": {
      "text/plain": [
       "(3202, 3)"
      ]
     },
     "execution_count": 13,
     "metadata": {},
     "output_type": "execute_result"
    }
   ],
   "source": [
    "info_nos.shape"
   ]
  },
  {
   "cell_type": "code",
   "execution_count": 14,
   "metadata": {},
   "outputs": [
    {
     "data": {
      "text/html": [
       "<div>\n",
       "<style scoped>\n",
       "    .dataframe tbody tr th:only-of-type {\n",
       "        vertical-align: middle;\n",
       "    }\n",
       "\n",
       "    .dataframe tbody tr th {\n",
       "        vertical-align: top;\n",
       "    }\n",
       "\n",
       "    .dataframe thead th {\n",
       "        text-align: right;\n",
       "    }\n",
       "</style>\n",
       "<table border=\"1\" class=\"dataframe\">\n",
       "  <thead>\n",
       "    <tr style=\"text-align: right;\">\n",
       "      <th></th>\n",
       "      <th>node</th>\n",
       "    </tr>\n",
       "  </thead>\n",
       "  <tbody>\n",
       "    <tr>\n",
       "      <th>2606</th>\n",
       "      <td>HC 71820</td>\n",
       "    </tr>\n",
       "  </tbody>\n",
       "</table>\n",
       "</div>"
      ],
      "text/plain": [
       "          node\n",
       "2606  HC 71820"
      ]
     },
     "execution_count": 14,
     "metadata": {},
     "output_type": "execute_result"
    }
   ],
   "source": [
    "nos_s.query('node not in @info_nos.node')"
   ]
  },
  {
   "cell_type": "code",
   "execution_count": 15,
   "metadata": {},
   "outputs": [
    {
     "data": {
      "text/html": [
       "<div>\n",
       "<style scoped>\n",
       "    .dataframe tbody tr th:only-of-type {\n",
       "        vertical-align: middle;\n",
       "    }\n",
       "\n",
       "    .dataframe tbody tr th {\n",
       "        vertical-align: top;\n",
       "    }\n",
       "\n",
       "    .dataframe thead th {\n",
       "        text-align: right;\n",
       "    }\n",
       "</style>\n",
       "<table border=\"1\" class=\"dataframe\">\n",
       "  <thead>\n",
       "    <tr style=\"text-align: right;\">\n",
       "      <th></th>\n",
       "      <th>soi</th>\n",
       "      <th>node</th>\n",
       "      <th>date</th>\n",
       "    </tr>\n",
       "  </thead>\n",
       "  <tbody>\n",
       "    <tr>\n",
       "      <th>4628</th>\n",
       "      <td>1505098</td>\n",
       "      <td>RE 128272</td>\n",
       "      <td>1990-09-26</td>\n",
       "    </tr>\n",
       "    <tr>\n",
       "      <th>4629</th>\n",
       "      <td>1505012</td>\n",
       "      <td>RE 128273</td>\n",
       "      <td>1990-09-26</td>\n",
       "    </tr>\n",
       "    <tr>\n",
       "      <th>91</th>\n",
       "      <td>1524503</td>\n",
       "      <td>RCL 370</td>\n",
       "      <td>1992-04-09</td>\n",
       "    </tr>\n",
       "    <tr>\n",
       "      <th>110</th>\n",
       "      <td>1509143</td>\n",
       "      <td>ADI 402</td>\n",
       "      <td>1993-08-02</td>\n",
       "    </tr>\n",
       "    <tr>\n",
       "      <th>460</th>\n",
       "      <td>1610851</td>\n",
       "      <td>PET 999</td>\n",
       "      <td>1995-03-30</td>\n",
       "    </tr>\n",
       "  </tbody>\n",
       "</table>\n",
       "</div>"
      ],
      "text/plain": [
       "          soi       node        date\n",
       "4628  1505098  RE 128272  1990-09-26\n",
       "4629  1505012  RE 128273  1990-09-26\n",
       "91    1524503    RCL 370  1992-04-09\n",
       "110   1509143    ADI 402  1993-08-02\n",
       "460   1610851    PET 999  1995-03-30"
      ]
     },
     "execution_count": 15,
     "metadata": {},
     "output_type": "execute_result"
    }
   ],
   "source": [
    "info_nos.head()"
   ]
  },
  {
   "cell_type": "markdown",
   "metadata": {},
   "source": [
    "Buscando nós em que o código assunto é relativo a Direito Administrativo"
   ]
  },
  {
   "cell_type": "code",
   "execution_count": 16,
   "metadata": {
    "scrolled": false
   },
   "outputs": [],
   "source": [
    "info_nos = get_cd_assunto_administrativo(info_nos, 'soi', con_stf, limit_num_ordem=False)"
   ]
  },
  {
   "cell_type": "code",
   "execution_count": 17,
   "metadata": {},
   "outputs": [
    {
     "name": "stdout",
     "output_type": "stream",
     "text": [
      "<class 'pandas.core.frame.DataFrame'>\n",
      "Int64Index: 3950 entries, 0 to 3949\n",
      "Data columns (total 4 columns):\n",
      "soi            3950 non-null int64\n",
      "node           3950 non-null object\n",
      "date           3950 non-null object\n",
      "cod_assunto    2539 non-null float64\n",
      "dtypes: float64(1), int64(1), object(2)\n",
      "memory usage: 154.3+ KB\n"
     ]
    }
   ],
   "source": [
    "info_nos.info()"
   ]
  },
  {
   "cell_type": "markdown",
   "metadata": {},
   "source": [
    "Apenas 1680 dos nós possuem assunto classificado como relacionado a direito administrativo"
   ]
  },
  {
   "cell_type": "markdown",
   "metadata": {},
   "source": [
    "## Realisando busca para desapropriação"
   ]
  },
  {
   "cell_type": "code",
   "execution_count": 18,
   "metadata": {
    "scrolled": true
   },
   "outputs": [
    {
     "name": "stdout",
     "output_type": "stream",
     "text": [
      "Foram encontrados 10761 results\n"
     ]
    }
   ],
   "source": [
    "result = busca(\"desapropriacao~2\", con_stf)"
   ]
  },
  {
   "cell_type": "code",
   "execution_count": 19,
   "metadata": {},
   "outputs": [],
   "source": [
    "l=[]\n",
    "for x in result:\n",
    "    l.append(\" \".join(extract_sig_num(x['_source']['title'])))"
   ]
  },
  {
   "cell_type": "code",
   "execution_count": 20,
   "metadata": {},
   "outputs": [],
   "source": [
    "edges, nodes = gerar_citacoes(result)"
   ]
  },
  {
   "cell_type": "code",
   "execution_count": 21,
   "metadata": {},
   "outputs": [],
   "source": [
    "nodes_s = pd.Series(list(nodes), name='node').to_frame()"
   ]
  },
  {
   "cell_type": "code",
   "execution_count": 22,
   "metadata": {},
   "outputs": [
    {
     "data": {
      "text/plain": [
       "6707"
      ]
     },
     "execution_count": 22,
     "metadata": {},
     "output_type": "execute_result"
    }
   ],
   "source": [
    "len(nodes)"
   ]
  },
  {
   "cell_type": "code",
   "execution_count": 23,
   "metadata": {},
   "outputs": [
    {
     "data": {
      "text/plain": [
       "15428"
      ]
     },
     "execution_count": 23,
     "metadata": {},
     "output_type": "execute_result"
    }
   ],
   "source": [
    "len(edges)"
   ]
  },
  {
   "cell_type": "code",
   "execution_count": 24,
   "metadata": {},
   "outputs": [],
   "source": [
    "info_nodes = get_soi_data_ultima_decisao(nodes, con_stf)"
   ]
  },
  {
   "cell_type": "code",
   "execution_count": 25,
   "metadata": {},
   "outputs": [
    {
     "data": {
      "text/plain": [
       "(6706, 3)"
      ]
     },
     "execution_count": 25,
     "metadata": {},
     "output_type": "execute_result"
    }
   ],
   "source": [
    "info_nodes.shape"
   ]
  },
  {
   "cell_type": "code",
   "execution_count": 27,
   "metadata": {},
   "outputs": [],
   "source": [
    "info_nodes = get_cd_assunto_administrativo(info_nodes, 'soi', con_stf=con_stf,\n",
    "                                           desaprop=True, limit_num_ordem=False)"
   ]
  },
  {
   "cell_type": "code",
   "execution_count": 28,
   "metadata": {},
   "outputs": [
    {
     "name": "stdout",
     "output_type": "stream",
     "text": [
      "<class 'pandas.core.frame.DataFrame'>\n",
      "Int64Index: 7872 entries, 0 to 7871\n",
      "Data columns (total 4 columns):\n",
      "soi            7872 non-null int64\n",
      "node           7872 non-null object\n",
      "date           7872 non-null object\n",
      "cod_assunto    5829 non-null float64\n",
      "dtypes: float64(1), int64(1), object(2)\n",
      "memory usage: 307.5+ KB\n"
     ]
    }
   ],
   "source": [
    "info_nodes.info()"
   ]
  },
  {
   "cell_type": "markdown",
   "metadata": {},
   "source": [
    "Dos 6706 processos, 4305 possuem assunto codificado como relativo a Direito Administrativo"
   ]
  },
  {
   "cell_type": "code",
   "execution_count": 29,
   "metadata": {},
   "outputs": [
    {
     "data": {
      "text/html": [
       "<div>\n",
       "<style scoped>\n",
       "    .dataframe tbody tr th:only-of-type {\n",
       "        vertical-align: middle;\n",
       "    }\n",
       "\n",
       "    .dataframe tbody tr th {\n",
       "        vertical-align: top;\n",
       "    }\n",
       "\n",
       "    .dataframe thead th {\n",
       "        text-align: right;\n",
       "    }\n",
       "</style>\n",
       "<table border=\"1\" class=\"dataframe\">\n",
       "  <thead>\n",
       "    <tr style=\"text-align: right;\">\n",
       "      <th></th>\n",
       "      <th>node</th>\n",
       "    </tr>\n",
       "  </thead>\n",
       "  <tbody>\n",
       "    <tr>\n",
       "      <th>4765</th>\n",
       "      <td>ARE 739313</td>\n",
       "    </tr>\n",
       "  </tbody>\n",
       "</table>\n",
       "</div>"
      ],
      "text/plain": [
       "            node\n",
       "4765  ARE 739313"
      ]
     },
     "execution_count": 29,
     "metadata": {},
     "output_type": "execute_result"
    }
   ],
   "source": [
    "nodes_s.query('node not in @info_nodes.node')"
   ]
  },
  {
   "cell_type": "markdown",
   "metadata": {},
   "source": [
    "## Gerando Grafos"
   ]
  },
  {
   "cell_type": "code",
   "execution_count": 30,
   "metadata": {},
   "outputs": [],
   "source": [
    "import networkx as nx\n",
    "from datetime import datetime\n",
    "        \n",
    "def add_nodes_attributes(graph, att_df):\n",
    "    for col in att_df.columns:\n",
    "        if col != 'node':\n",
    "            nx.set_node_attributes(\n",
    "                graph,\n",
    "                pd.Series(att_df[col].values,\n",
    "                          index = att_df.node).to_dict(),\n",
    "                name=col\n",
    "            )\n",
    "    return graph\n",
    "\n",
    "def create_graph(nodes, edges, attrib=False, att_df=None,\n",
    "                 export=False, fn=None, filter_cd_assunto=False):\n",
    "    graph = nx.DiGraph()\n",
    "    \n",
    "    graph.add_nodes_from(nodes)\n",
    "    graph.add_edges_from(edges)\n",
    "    \n",
    "    if attrib:\n",
    "        graph = add_nodes_attributes(graph, att_df)\n",
    "    \n",
    "    if filter_cd_assunto is True:\n",
    "        nodes_with_assunto = set(att_df.query('cod_assunto == cod_assunto')['node'])\n",
    "        graph = graph.subgraph(nodes_with_assunto)\n",
    "    \n",
    "    if export:\n",
    "        nx.write_gexf(graph, path=fn)\n",
    "    return graph"
   ]
  },
  {
   "cell_type": "markdown",
   "metadata": {},
   "source": [
    "Grafo de moralidade"
   ]
  },
  {
   "cell_type": "code",
   "execution_count": 31,
   "metadata": {},
   "outputs": [],
   "source": [
    "m = create_graph(nos, arestas,\n",
    "                 att_df=info_nos, attrib=True,\n",
    "                 export=True, fn='grafo_moralidade_pre-gephi.gexf',\n",
    "                 filter_cd_assunto=True)"
   ]
  },
  {
   "cell_type": "code",
   "execution_count": 32,
   "metadata": {},
   "outputs": [
    {
     "data": {
      "text/plain": [
       "1791"
      ]
     },
     "execution_count": 32,
     "metadata": {},
     "output_type": "execute_result"
    }
   ],
   "source": [
    "len(m.nodes)"
   ]
  },
  {
   "cell_type": "code",
   "execution_count": 33,
   "metadata": {},
   "outputs": [
    {
     "data": {
      "text/plain": [
       "730"
      ]
     },
     "execution_count": 33,
     "metadata": {},
     "output_type": "execute_result"
    }
   ],
   "source": [
    "len(m.edges)"
   ]
  },
  {
   "cell_type": "markdown",
   "metadata": {},
   "source": [
    "Grafo desapropriação"
   ]
  },
  {
   "cell_type": "code",
   "execution_count": 34,
   "metadata": {},
   "outputs": [],
   "source": [
    "desaprop = create_graph(nodes, edges,\n",
    "                        att_df=info_nodes, attrib=True,\n",
    "                        export=True, fn='grafo_desapropriacao_pre-gephi.gexf',\n",
    "                        filter_cd_assunto=True)"
   ]
  },
  {
   "cell_type": "code",
   "execution_count": 35,
   "metadata": {},
   "outputs": [
    {
     "data": {
      "text/plain": [
       "4663"
      ]
     },
     "execution_count": 35,
     "metadata": {},
     "output_type": "execute_result"
    }
   ],
   "source": [
    "len(desaprop.nodes)"
   ]
  },
  {
   "cell_type": "code",
   "execution_count": 36,
   "metadata": {},
   "outputs": [
    {
     "data": {
      "text/plain": [
       "5903"
      ]
     },
     "execution_count": 36,
     "metadata": {},
     "output_type": "execute_result"
    }
   ],
   "source": [
    "len(desaprop.edges)"
   ]
  },
  {
   "cell_type": "markdown",
   "metadata": {},
   "source": [
    "Checando self loops"
   ]
  },
  {
   "cell_type": "code",
   "execution_count": 37,
   "metadata": {},
   "outputs": [
    {
     "data": {
      "text/plain": [
       "<generator object nodes_with_selfloops.<locals>.<genexpr> at 0x7f849fa67d00>"
      ]
     },
     "execution_count": 37,
     "metadata": {},
     "output_type": "execute_result"
    }
   ],
   "source": [
    "m.nodes_with_selfloops()"
   ]
  },
  {
   "cell_type": "markdown",
   "metadata": {},
   "source": [
    "Chegando ciclos"
   ]
  },
  {
   "cell_type": "code",
   "execution_count": 38,
   "metadata": {},
   "outputs": [
    {
     "ename": "AttributeError",
     "evalue": "'OutEdgeView' object has no attribute 'graph'",
     "output_type": "error",
     "traceback": [
      "\u001b[0;31m---------------------------------------------------------------------------\u001b[0m",
      "\u001b[0;31mAttributeError\u001b[0m                            Traceback (most recent call last)",
      "\u001b[0;32m<ipython-input-38-3917483aca3b>\u001b[0m in \u001b[0;36m<module>\u001b[0;34m()\u001b[0m\n\u001b[0;32m----> 1\u001b[0;31m \u001b[0;32mfor\u001b[0m \u001b[0mc\u001b[0m \u001b[0;32min\u001b[0m \u001b[0mnx\u001b[0m\u001b[0;34m.\u001b[0m\u001b[0msimple_cycles\u001b[0m\u001b[0;34m(\u001b[0m\u001b[0mm\u001b[0m\u001b[0;34m)\u001b[0m\u001b[0;34m:\u001b[0m\u001b[0;34m\u001b[0m\u001b[0m\n\u001b[0m\u001b[1;32m      2\u001b[0m     \u001b[0mprint\u001b[0m\u001b[0;34m(\u001b[0m\u001b[0mc\u001b[0m\u001b[0;34m)\u001b[0m\u001b[0;34m\u001b[0m\u001b[0m\n",
      "\u001b[0;32m/usr/local/lib/python3.5/dist-packages/networkx/algorithms/cycles.py\u001b[0m in \u001b[0;36msimple_cycles\u001b[0;34m(G)\u001b[0m\n\u001b[1;32m    182\u001b[0m     \u001b[0;31m# Also we save the actual graph so we can mutate it. We only take the\u001b[0m\u001b[0;34m\u001b[0m\u001b[0;34m\u001b[0m\u001b[0m\n\u001b[1;32m    183\u001b[0m     \u001b[0;31m# edges because we do not want to copy edge and node attributes here.\u001b[0m\u001b[0;34m\u001b[0m\u001b[0;34m\u001b[0m\u001b[0m\n\u001b[0;32m--> 184\u001b[0;31m     \u001b[0msubG\u001b[0m \u001b[0;34m=\u001b[0m \u001b[0mtype\u001b[0m\u001b[0;34m(\u001b[0m\u001b[0mG\u001b[0m\u001b[0;34m)\u001b[0m\u001b[0;34m(\u001b[0m\u001b[0mG\u001b[0m\u001b[0;34m.\u001b[0m\u001b[0medges\u001b[0m\u001b[0;34m(\u001b[0m\u001b[0;34m)\u001b[0m\u001b[0;34m)\u001b[0m\u001b[0;34m\u001b[0m\u001b[0m\n\u001b[0m\u001b[1;32m    185\u001b[0m     \u001b[0msccs\u001b[0m \u001b[0;34m=\u001b[0m \u001b[0mlist\u001b[0m\u001b[0;34m(\u001b[0m\u001b[0mnx\u001b[0m\u001b[0;34m.\u001b[0m\u001b[0mstrongly_connected_components\u001b[0m\u001b[0;34m(\u001b[0m\u001b[0msubG\u001b[0m\u001b[0;34m)\u001b[0m\u001b[0;34m)\u001b[0m\u001b[0;34m\u001b[0m\u001b[0m\n\u001b[1;32m    186\u001b[0m     \u001b[0;32mwhile\u001b[0m \u001b[0msccs\u001b[0m\u001b[0;34m:\u001b[0m\u001b[0;34m\u001b[0m\u001b[0m\n",
      "\u001b[0;32m/usr/local/lib/python3.5/dist-packages/networkx/classes/graphviews.py\u001b[0m in \u001b[0;36m__init__\u001b[0;34m(self, graph, filter_node, filter_edge)\u001b[0m\n\u001b[1;32m     88\u001b[0m \u001b[0;34m\u001b[0m\u001b[0m\n\u001b[1;32m     89\u001b[0m         \u001b[0;31m# Set graph interface\u001b[0m\u001b[0;34m\u001b[0m\u001b[0;34m\u001b[0m\u001b[0m\n\u001b[0;32m---> 90\u001b[0;31m         \u001b[0mself\u001b[0m\u001b[0;34m.\u001b[0m\u001b[0mgraph\u001b[0m \u001b[0;34m=\u001b[0m \u001b[0mgraph\u001b[0m\u001b[0;34m.\u001b[0m\u001b[0mgraph\u001b[0m\u001b[0;34m\u001b[0m\u001b[0m\n\u001b[0m\u001b[1;32m     91\u001b[0m         \u001b[0mself\u001b[0m\u001b[0;34m.\u001b[0m\u001b[0m_node\u001b[0m \u001b[0;34m=\u001b[0m \u001b[0mFilterAtlas\u001b[0m\u001b[0;34m(\u001b[0m\u001b[0mgraph\u001b[0m\u001b[0;34m.\u001b[0m\u001b[0m_node\u001b[0m\u001b[0;34m,\u001b[0m \u001b[0mfilter_node\u001b[0m\u001b[0;34m)\u001b[0m\u001b[0;34m\u001b[0m\u001b[0m\n\u001b[1;32m     92\u001b[0m         \u001b[0mself\u001b[0m\u001b[0;34m.\u001b[0m\u001b[0m_adj\u001b[0m \u001b[0;34m=\u001b[0m \u001b[0mFilterAdjacency\u001b[0m\u001b[0;34m(\u001b[0m\u001b[0mgraph\u001b[0m\u001b[0;34m.\u001b[0m\u001b[0m_adj\u001b[0m\u001b[0;34m,\u001b[0m \u001b[0mfilter_node\u001b[0m\u001b[0;34m,\u001b[0m \u001b[0mfilter_edge\u001b[0m\u001b[0;34m)\u001b[0m\u001b[0;34m\u001b[0m\u001b[0m\n",
      "\u001b[0;31mAttributeError\u001b[0m: 'OutEdgeView' object has no attribute 'graph'"
     ]
    }
   ],
   "source": [
    "# for c in nx.simple_cycles(m):\n",
    "#     print(c)"
   ]
  },
  {
   "cell_type": "code",
   "execution_count": null,
   "metadata": {},
   "outputs": [],
   "source": [
    "# for c in nx.simple_cycles(desaprop):\n",
    "#     print(c)"
   ]
  }
 ],
 "metadata": {
  "kernelspec": {
   "display_name": "Python 2",
   "language": "python",
   "name": "python2"
  },
  "language_info": {
   "codemirror_mode": {
    "name": "ipython",
    "version": 2
   },
   "file_extension": ".py",
   "mimetype": "text/x-python",
   "name": "python",
   "nbconvert_exporter": "python",
   "pygments_lexer": "ipython2",
   "version": "2.7.15"
  }
 },
 "nbformat": 4,
 "nbformat_minor": 2
}
